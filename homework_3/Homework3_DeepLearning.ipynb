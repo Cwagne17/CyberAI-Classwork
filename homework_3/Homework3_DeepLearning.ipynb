{
 "cells": [
  {
   "cell_type": "markdown",
   "metadata": {},
   "source": [
    "# Homework 3 - Deep Learning\n",
    "***Author: Christopher Wagner***"
   ]
  },
  {
   "cell_type": "code",
   "execution_count": 1,
   "metadata": {},
   "outputs": [],
   "source": [
    "# Import libraries...\n",
    "import pandas as pd\n",
    "import matplotlib.pyplot as plt\n",
    "\n",
    "from sklearn.model_selection import train_test_split\n",
    "from sklearn.preprocessing import StandardScaler\n",
    "from sklearn.metrics import classification_report\n",
    "\n",
    "import tensorflow as tf\n",
    "from tensorflow import feature_column\n",
    "\n",
    "from keras import backend as K\n",
    "from keras.layers import Layer\n",
    "from keras.initializers import Constant"
   ]
  },
  {
   "cell_type": "markdown",
   "metadata": {},
   "source": [
    "### Multi Class Mappings"
   ]
  },
  {
   "cell_type": "code",
   "execution_count": 2,
   "metadata": {},
   "outputs": [],
   "source": [
    "# Map the labels to 8 classes\n",
    "label_class_map = {\n",
    "    \"DDoS-RSTFINFlood\": \"DDoS\",\n",
    "    \"DDoS-PSHACK_Flood\": \"DDoS\",\n",
    "    \"DDoS-SYN_Flood\": \"DDoS\",\n",
    "    \"DDoS-UDP_Flood\": \"DDoS\",\n",
    "    \"DDoS-TCP_Flood\": \"DDoS\",\n",
    "    \"DDoS-ICMP_Flood\": \"DDoS\",\n",
    "    \"DDoS-SynonymousIP_Flood\": \"DDoS\",\n",
    "    \"DDoS-ACK_Fragmentation\": \"DDoS\",\n",
    "    \"DDoS-UDP_Fragmentation\": \"DDoS\",\n",
    "    \"DDoS-ICMP_Fragmentation\": \"DDoS\",\n",
    "    \"DDoS-SlowLoris\": \"DDoS\",\n",
    "    \"DDoS-HTTP_Flood\": \"DDoS\",\n",
    "    \n",
    "    \"DoS-UDP_Flood\": \"DoS\",\n",
    "    \"DoS-SYN_Flood\": \"DoS\",\n",
    "    \"DoS-TCP_Flood\": \"DoS\",\n",
    "    \"DoS-HTTP_Flood\": \"DoS\",\n",
    "    \n",
    "    \"Mirai-greeth_flood\": \"Mirai\",\n",
    "    \"Mirai-greip_flood\": \"Mirai\",\n",
    "    \"Mirai-udpplain\": \"Mirai\",\n",
    "    \n",
    "    \"Recon-PingSweep\": \"Recon\",\n",
    "    \"Recon-OSScan\": \"Recon\",\n",
    "    \"Recon-PortScan\": \"Recon\",\n",
    "    \"VulnerabilityScan\": \"Recon\",\n",
    "    \"Recon-HostDiscovery\": \"Recon\",\n",
    "    \n",
    "    \"DNS_Spoofing\": \"Spoofing\",\n",
    "    \"MITM-ArpSpoofing\": \"Spoofing\",\n",
    "    \n",
    "    \"BenignTraffic\": \"Benign\",\n",
    "    \n",
    "    \"BrowserHijacking\": \"Web\",\n",
    "    \"Backdoor_Malware\": \"Web\",\n",
    "    \"XSS\": \"Web\",\n",
    "    \"Uploading_Attack\": \"Web\",\n",
    "    \"SqlInjection\": \"Web\",\n",
    "    \"CommandInjection\": \"Web\",\n",
    "    \n",
    "    \"DictionaryBruteForce\": \"BruteForce\"   \n",
    "}\n",
    "\n",
    "# Map the labels to 8 classes\n",
    "classes = ['Benign', 'DDoS', 'DoS', 'Mirai', 'Recon', 'Spoofing', 'Web', 'BruteForce']\n",
    "\n",
    "def map_label_to_number(y: pd.Series):\n",
    "    \"\"\"Maps the labels to 8 numeric classes.\n",
    "\n",
    "    Args:\n",
    "        y (pd.Series): The current labels. \n",
    "\n",
    "    Returns:\n",
    "        list: The new labels.\n",
    "    \"\"\"\n",
    "    return [classes.index(label_class_map[label]) for label in y]\n",
    "\n",
    "def map_number_to_class(y: pd.Series):\n",
    "    \"\"\"Maps the 8 numeric classes to their respective labels.\n",
    "\n",
    "    Args:\n",
    "        y (pd.Series): The current labels. \n",
    "\n",
    "    Returns:\n",
    "        list: The new labels.\n",
    "    \"\"\"\n",
    "    return [classes[label] for label in y]"
   ]
  },
  {
   "cell_type": "markdown",
   "metadata": {},
   "source": [
    "### Import Dataset"
   ]
  },
  {
   "cell_type": "code",
   "execution_count": 18,
   "metadata": {},
   "outputs": [
    {
     "data": {
      "text/plain": [
       "(1048575, 47)"
      ]
     },
     "execution_count": 18,
     "metadata": {},
     "output_type": "execute_result"
    }
   ],
   "source": [
    "# Using smaller dataset for testing purposes, has 1_048_575 rows\n",
    "DATASET_FILE = \"../datasets/IoT_Intrusion.csv\"\n",
    "df = pd.read_csv(DATASET_FILE)\n",
    "\n",
    "# Rename columns\n",
    "df.rename(columns={\n",
    "    \"Protocol Type\": \"Protocol_Type\",\n",
    "    \"Tot sum\": \"Tot_sum\",\n",
    "    \"Tot size\": \"Tot_size\",\n",
    "    \"label\": \"target\"\n",
    "}, inplace=True)\n",
    "\n",
    "df.shape"
   ]
  },
  {
   "cell_type": "code",
   "execution_count": 19,
   "metadata": {},
   "outputs": [
    {
     "name": "stdout",
     "output_type": "stream",
     "text": [
      "Index(['flow_duration', 'Header_Length', 'Protocol_Type', 'Duration', 'Rate',\n",
      "       'Srate', 'Drate', 'fin_flag_number', 'syn_flag_number',\n",
      "       'rst_flag_number', 'psh_flag_number', 'ack_flag_number',\n",
      "       'ece_flag_number', 'cwr_flag_number', 'ack_count', 'syn_count',\n",
      "       'fin_count', 'urg_count', 'rst_count', 'HTTP', 'HTTPS', 'DNS', 'Telnet',\n",
      "       'SMTP', 'SSH', 'IRC', 'TCP', 'UDP', 'DHCP', 'ARP', 'ICMP', 'IPv', 'LLC',\n",
      "       'Tot_sum', 'Min', 'Max', 'AVG', 'Std', 'Tot_size', 'IAT', 'Number',\n",
      "       'Magnitue', 'Radius', 'Covariance', 'Variance', 'Weight', 'target'],\n",
      "      dtype='object')\n"
     ]
    }
   ],
   "source": [
    "# Define the features and target columns\n",
    "X_columns = df.columns.to_list()[:-1]\n",
    "y_column = 'target'\n",
    "\n",
    "X = df[X_columns]\n",
    "y = df[y_column]\n",
    "\n",
    "# Map the target column to numerical values\n",
    "y = map_label_to_number(y)\n",
    "# print headers\n",
    "print(df.columns)"
   ]
  },
  {
   "cell_type": "code",
   "execution_count": 20,
   "metadata": {},
   "outputs": [
    {
     "name": "stdout",
     "output_type": "stream",
     "text": [
      "            dataset\n",
      "Benign       763525\n",
      "DDoS         181481\n",
      "DoS           59233\n",
      "Mirai         24476\n",
      "Recon         11053\n",
      "Spoofing       7945\n",
      "Web             538\n",
      "BruteForce      324\n"
     ]
    }
   ],
   "source": [
    "data_counts = {\n",
    "    \"dataset\": pd.Series(map_number_to_class(y)).value_counts().to_list(),\n",
    "}\n",
    "print(pd.DataFrame(data_counts, index=classes))"
   ]
  },
  {
   "cell_type": "markdown",
   "metadata": {},
   "source": [
    "### Split the Dataset into Training and Test Sets"
   ]
  },
  {
   "cell_type": "code",
   "execution_count": 25,
   "metadata": {},
   "outputs": [
    {
     "name": "stdout",
     "output_type": "stream",
     "text": [
      "             train    test  validation   total\n",
      "Benign      611049  122060       30416  763525\n",
      "DDoS        145059   29080        7342  181481\n",
      "DoS          47272    9583        2378   59233\n",
      "Mirai        19598    3892         986   24476\n",
      "Recon         8850    1750         453   11053\n",
      "Spoofing      6337    1277         331    7945\n",
      "Web            439      77          22     538\n",
      "BruteForce     256      53          15     324\n"
     ]
    }
   ],
   "source": [
    "# Split the data into training and testing sets\n",
    "X_train, X_test, y_train, y_test = train_test_split(X, y, test_size=0.2)\n",
    "X_test, X_val, y_test, y_val = train_test_split(X_test, y_test, test_size=0.2)\n",
    "\n",
    "# Print the basic statistics of the training set\n",
    "data_counts = {\n",
    "    \"train\": pd.Series(map_number_to_class(y_train)).value_counts().to_list(),\n",
    "    \"test\": pd.Series(map_number_to_class(y_test)).value_counts().to_list(),\n",
    "    \"validation\": pd.Series(map_number_to_class(y_val)).value_counts().to_list(),\n",
    "    \"total\": pd.Series(y).value_counts().to_list(),\n",
    "}\n",
    "print(pd.DataFrame(data_counts, index=classes))"
   ]
  },
  {
   "cell_type": "markdown",
   "metadata": {},
   "source": [
    "### Pre-Process the Data"
   ]
  },
  {
   "cell_type": "code",
   "execution_count": 17,
   "metadata": {},
   "outputs": [
    {
     "ename": "MemoryError",
     "evalue": "Unable to allocate 12.8 GiB for an array with shape (46, 37349263) and data type float64",
     "output_type": "error",
     "traceback": [
      "\u001b[1;31m---------------------------------------------------------------------------\u001b[0m",
      "\u001b[1;31mMemoryError\u001b[0m                               Traceback (most recent call last)",
      "\u001b[1;32m~\\AppData\\Local\\Temp\\ipykernel_6540\\1863410143.py\u001b[0m in \u001b[0;36m<module>\u001b[1;34m\u001b[0m\n\u001b[0;32m     35\u001b[0m \u001b[1;33m\u001b[0m\u001b[0m\n\u001b[0;32m     36\u001b[0m \u001b[1;31m# Convert the dataframes into datasets\u001b[0m\u001b[1;33m\u001b[0m\u001b[1;33m\u001b[0m\u001b[0m\n\u001b[1;32m---> 37\u001b[1;33m \u001b[0mtrain_ds\u001b[0m \u001b[1;33m=\u001b[0m \u001b[0mdf_to_dataset\u001b[0m\u001b[1;33m(\u001b[0m\u001b[0mtrain_df\u001b[0m\u001b[1;33m)\u001b[0m\u001b[1;33m\u001b[0m\u001b[1;33m\u001b[0m\u001b[0m\n\u001b[0m\u001b[0;32m     38\u001b[0m \u001b[0mval_ds\u001b[0m \u001b[1;33m=\u001b[0m \u001b[0mdf_to_dataset\u001b[0m\u001b[1;33m(\u001b[0m\u001b[0mval_df\u001b[0m\u001b[1;33m,\u001b[0m \u001b[0mshuffle\u001b[0m\u001b[1;33m=\u001b[0m\u001b[1;32mFalse\u001b[0m\u001b[1;33m)\u001b[0m\u001b[1;33m\u001b[0m\u001b[1;33m\u001b[0m\u001b[0m\n\u001b[0;32m     39\u001b[0m \u001b[0mtest_ds\u001b[0m \u001b[1;33m=\u001b[0m \u001b[0mdf_to_dataset\u001b[0m\u001b[1;33m(\u001b[0m\u001b[0mtest_df\u001b[0m\u001b[1;33m,\u001b[0m \u001b[0mshuffle\u001b[0m\u001b[1;33m=\u001b[0m\u001b[1;32mFalse\u001b[0m\u001b[1;33m)\u001b[0m\u001b[1;33m\u001b[0m\u001b[1;33m\u001b[0m\u001b[0m\n",
      "\u001b[1;32m~\\AppData\\Local\\Temp\\ipykernel_6540\\1863410143.py\u001b[0m in \u001b[0;36mdf_to_dataset\u001b[1;34m(dataframe, shuffle, batch_size)\u001b[0m\n\u001b[0;32m     26\u001b[0m         \u001b[0mtf\u001b[0m\u001b[1;33m.\u001b[0m\u001b[0mdata\u001b[0m\u001b[1;33m.\u001b[0m\u001b[0mDataset\u001b[0m\u001b[1;33m:\u001b[0m \u001b[0mThe\u001b[0m \u001b[0mconverted\u001b[0m \u001b[0mdataset\u001b[0m\u001b[1;33m.\u001b[0m\u001b[1;33m\u001b[0m\u001b[1;33m\u001b[0m\u001b[0m\n\u001b[0;32m     27\u001b[0m     \"\"\"\n\u001b[1;32m---> 28\u001b[1;33m     \u001b[0mdataframe\u001b[0m \u001b[1;33m=\u001b[0m \u001b[0mdataframe\u001b[0m\u001b[1;33m.\u001b[0m\u001b[0mcopy\u001b[0m\u001b[1;33m(\u001b[0m\u001b[1;33m)\u001b[0m\u001b[1;33m\u001b[0m\u001b[1;33m\u001b[0m\u001b[0m\n\u001b[0m\u001b[0;32m     29\u001b[0m     \u001b[0mlabels\u001b[0m \u001b[1;33m=\u001b[0m \u001b[0mdataframe\u001b[0m\u001b[1;33m.\u001b[0m\u001b[0mpop\u001b[0m\u001b[1;33m(\u001b[0m\u001b[1;34m'target'\u001b[0m\u001b[1;33m)\u001b[0m\u001b[1;33m\u001b[0m\u001b[1;33m\u001b[0m\u001b[0m\n\u001b[0;32m     30\u001b[0m     \u001b[0mds\u001b[0m \u001b[1;33m=\u001b[0m \u001b[0mtf\u001b[0m\u001b[1;33m.\u001b[0m\u001b[0mdata\u001b[0m\u001b[1;33m.\u001b[0m\u001b[0mDataset\u001b[0m\u001b[1;33m.\u001b[0m\u001b[0mfrom_tensor_slices\u001b[0m\u001b[1;33m(\u001b[0m\u001b[1;33m(\u001b[0m\u001b[0mdict\u001b[0m\u001b[1;33m(\u001b[0m\u001b[0mdataframe\u001b[0m\u001b[1;33m)\u001b[0m\u001b[1;33m,\u001b[0m \u001b[0mlabels\u001b[0m\u001b[1;33m)\u001b[0m\u001b[1;33m)\u001b[0m\u001b[1;33m\u001b[0m\u001b[1;33m\u001b[0m\u001b[0m\n",
      "\u001b[1;32m~\\AppData\\Local\\Packages\\PythonSoftwareFoundation.Python.3.9_qbz5n2kfra8p0\\LocalCache\\local-packages\\Python39\\site-packages\\pandas\\core\\generic.py\u001b[0m in \u001b[0;36mcopy\u001b[1;34m(self, deep)\u001b[0m\n\u001b[0;32m   5931\u001b[0m         \u001b[0mdtype\u001b[0m\u001b[1;33m:\u001b[0m \u001b[0mobject\u001b[0m\u001b[1;33m\u001b[0m\u001b[1;33m\u001b[0m\u001b[0m\n\u001b[0;32m   5932\u001b[0m         \"\"\"\n\u001b[1;32m-> 5933\u001b[1;33m         \u001b[0mdata\u001b[0m \u001b[1;33m=\u001b[0m \u001b[0mself\u001b[0m\u001b[1;33m.\u001b[0m\u001b[0m_mgr\u001b[0m\u001b[1;33m.\u001b[0m\u001b[0mcopy\u001b[0m\u001b[1;33m(\u001b[0m\u001b[0mdeep\u001b[0m\u001b[1;33m=\u001b[0m\u001b[0mdeep\u001b[0m\u001b[1;33m)\u001b[0m\u001b[1;33m\u001b[0m\u001b[1;33m\u001b[0m\u001b[0m\n\u001b[0m\u001b[0;32m   5934\u001b[0m         \u001b[0mself\u001b[0m\u001b[1;33m.\u001b[0m\u001b[0m_clear_item_cache\u001b[0m\u001b[1;33m(\u001b[0m\u001b[1;33m)\u001b[0m\u001b[1;33m\u001b[0m\u001b[1;33m\u001b[0m\u001b[0m\n\u001b[0;32m   5935\u001b[0m         \u001b[1;32mreturn\u001b[0m \u001b[0mself\u001b[0m\u001b[1;33m.\u001b[0m\u001b[0m_constructor\u001b[0m\u001b[1;33m(\u001b[0m\u001b[0mdata\u001b[0m\u001b[1;33m)\u001b[0m\u001b[1;33m.\u001b[0m\u001b[0m__finalize__\u001b[0m\u001b[1;33m(\u001b[0m\u001b[0mself\u001b[0m\u001b[1;33m,\u001b[0m \u001b[0mmethod\u001b[0m\u001b[1;33m=\u001b[0m\u001b[1;34m\"copy\"\u001b[0m\u001b[1;33m)\u001b[0m\u001b[1;33m\u001b[0m\u001b[1;33m\u001b[0m\u001b[0m\n",
      "\u001b[1;32m~\\AppData\\Local\\Packages\\PythonSoftwareFoundation.Python.3.9_qbz5n2kfra8p0\\LocalCache\\local-packages\\Python39\\site-packages\\pandas\\core\\internals\\managers.py\u001b[0m in \u001b[0;36mcopy\u001b[1;34m(self, deep)\u001b[0m\n\u001b[0;32m    597\u001b[0m             \u001b[0mnew_axes\u001b[0m \u001b[1;33m=\u001b[0m \u001b[0mlist\u001b[0m\u001b[1;33m(\u001b[0m\u001b[0mself\u001b[0m\u001b[1;33m.\u001b[0m\u001b[0maxes\u001b[0m\u001b[1;33m)\u001b[0m\u001b[1;33m\u001b[0m\u001b[1;33m\u001b[0m\u001b[0m\n\u001b[0;32m    598\u001b[0m \u001b[1;33m\u001b[0m\u001b[0m\n\u001b[1;32m--> 599\u001b[1;33m         \u001b[0mres\u001b[0m \u001b[1;33m=\u001b[0m \u001b[0mself\u001b[0m\u001b[1;33m.\u001b[0m\u001b[0mapply\u001b[0m\u001b[1;33m(\u001b[0m\u001b[1;34m\"copy\"\u001b[0m\u001b[1;33m,\u001b[0m \u001b[0mdeep\u001b[0m\u001b[1;33m=\u001b[0m\u001b[0mdeep\u001b[0m\u001b[1;33m)\u001b[0m\u001b[1;33m\u001b[0m\u001b[1;33m\u001b[0m\u001b[0m\n\u001b[0m\u001b[0;32m    600\u001b[0m         \u001b[0mres\u001b[0m\u001b[1;33m.\u001b[0m\u001b[0maxes\u001b[0m \u001b[1;33m=\u001b[0m \u001b[0mnew_axes\u001b[0m\u001b[1;33m\u001b[0m\u001b[1;33m\u001b[0m\u001b[0m\n\u001b[0;32m    601\u001b[0m \u001b[1;33m\u001b[0m\u001b[0m\n",
      "\u001b[1;32m~\\AppData\\Local\\Packages\\PythonSoftwareFoundation.Python.3.9_qbz5n2kfra8p0\\LocalCache\\local-packages\\Python39\\site-packages\\pandas\\core\\internals\\managers.py\u001b[0m in \u001b[0;36mapply\u001b[1;34m(self, f, align_keys, ignore_failures, **kwargs)\u001b[0m\n\u001b[0;32m    325\u001b[0m                     \u001b[0mapplied\u001b[0m \u001b[1;33m=\u001b[0m \u001b[0mb\u001b[0m\u001b[1;33m.\u001b[0m\u001b[0mapply\u001b[0m\u001b[1;33m(\u001b[0m\u001b[0mf\u001b[0m\u001b[1;33m,\u001b[0m \u001b[1;33m**\u001b[0m\u001b[0mkwargs\u001b[0m\u001b[1;33m)\u001b[0m\u001b[1;33m\u001b[0m\u001b[1;33m\u001b[0m\u001b[0m\n\u001b[0;32m    326\u001b[0m                 \u001b[1;32melse\u001b[0m\u001b[1;33m:\u001b[0m\u001b[1;33m\u001b[0m\u001b[1;33m\u001b[0m\u001b[0m\n\u001b[1;32m--> 327\u001b[1;33m                     \u001b[0mapplied\u001b[0m \u001b[1;33m=\u001b[0m \u001b[0mgetattr\u001b[0m\u001b[1;33m(\u001b[0m\u001b[0mb\u001b[0m\u001b[1;33m,\u001b[0m \u001b[0mf\u001b[0m\u001b[1;33m)\u001b[0m\u001b[1;33m(\u001b[0m\u001b[1;33m**\u001b[0m\u001b[0mkwargs\u001b[0m\u001b[1;33m)\u001b[0m\u001b[1;33m\u001b[0m\u001b[1;33m\u001b[0m\u001b[0m\n\u001b[0m\u001b[0;32m    328\u001b[0m             \u001b[1;32mexcept\u001b[0m \u001b[1;33m(\u001b[0m\u001b[0mTypeError\u001b[0m\u001b[1;33m,\u001b[0m \u001b[0mNotImplementedError\u001b[0m\u001b[1;33m)\u001b[0m\u001b[1;33m:\u001b[0m\u001b[1;33m\u001b[0m\u001b[1;33m\u001b[0m\u001b[0m\n\u001b[0;32m    329\u001b[0m                 \u001b[1;32mif\u001b[0m \u001b[1;32mnot\u001b[0m \u001b[0mignore_failures\u001b[0m\u001b[1;33m:\u001b[0m\u001b[1;33m\u001b[0m\u001b[1;33m\u001b[0m\u001b[0m\n",
      "\u001b[1;32m~\\AppData\\Local\\Packages\\PythonSoftwareFoundation.Python.3.9_qbz5n2kfra8p0\\LocalCache\\local-packages\\Python39\\site-packages\\pandas\\core\\internals\\blocks.py\u001b[0m in \u001b[0;36mcopy\u001b[1;34m(self, deep)\u001b[0m\n\u001b[0;32m    648\u001b[0m         \u001b[0mvalues\u001b[0m \u001b[1;33m=\u001b[0m \u001b[0mself\u001b[0m\u001b[1;33m.\u001b[0m\u001b[0mvalues\u001b[0m\u001b[1;33m\u001b[0m\u001b[1;33m\u001b[0m\u001b[0m\n\u001b[0;32m    649\u001b[0m         \u001b[1;32mif\u001b[0m \u001b[0mdeep\u001b[0m\u001b[1;33m:\u001b[0m\u001b[1;33m\u001b[0m\u001b[1;33m\u001b[0m\u001b[0m\n\u001b[1;32m--> 650\u001b[1;33m             \u001b[0mvalues\u001b[0m \u001b[1;33m=\u001b[0m \u001b[0mvalues\u001b[0m\u001b[1;33m.\u001b[0m\u001b[0mcopy\u001b[0m\u001b[1;33m(\u001b[0m\u001b[1;33m)\u001b[0m\u001b[1;33m\u001b[0m\u001b[1;33m\u001b[0m\u001b[0m\n\u001b[0m\u001b[0;32m    651\u001b[0m         \u001b[1;32mreturn\u001b[0m \u001b[0mself\u001b[0m\u001b[1;33m.\u001b[0m\u001b[0mmake_block_same_class\u001b[0m\u001b[1;33m(\u001b[0m\u001b[0mvalues\u001b[0m\u001b[1;33m)\u001b[0m\u001b[1;33m\u001b[0m\u001b[1;33m\u001b[0m\u001b[0m\n\u001b[0;32m    652\u001b[0m \u001b[1;33m\u001b[0m\u001b[0m\n",
      "\u001b[1;31mMemoryError\u001b[0m: Unable to allocate 12.8 GiB for an array with shape (46, 37349263) and data type float64"
     ]
    }
   ],
   "source": [
    "# Standardize the data\n",
    "ss = StandardScaler(copy=True, with_mean=True, with_std=True)\n",
    "\n",
    "# Fit the scaler on the training data\n",
    "ss.fit(X_train)\n",
    "\n",
    "# Transform the training, validation, and testing data\n",
    "X_train = ss.transform(X_train)\n",
    "X_test = ss.transform(X_test)\n",
    "X_val = ss.transform(X_val)\n",
    "\n",
    "# Convert the data into dataframes\n",
    "train_df = pd.DataFrame(X_train, columns=X_columns).assign(target=y_train)\n",
    "val_df = pd.DataFrame(X_val, columns=X_columns).assign(target=y_val)\n",
    "test_df = pd.DataFrame(X_test, columns=X_columns).assign(target=y_test)\n",
    "\n",
    "def df_to_dataset(dataframe, shuffle=True, batch_size=32):\n",
    "    \"\"\"Converts a dataframe to a dataset.\n",
    "\n",
    "    Args:\n",
    "        dataframe (DataFrame): The dataframe to convert. \n",
    "        shuffle (bool, optional): Enables whether the dataset should be shuffled. Defaults to True.\n",
    "        batch_size (int, optional): Determines the batch size of the dataset. Defaults to 32.\n",
    "\n",
    "    Returns:\n",
    "        tf.data.Dataset: The converted dataset.\n",
    "    \"\"\"\n",
    "    dataframe = dataframe.copy()\n",
    "    labels = dataframe.pop('target')\n",
    "    ds = tf.data.Dataset.from_tensor_slices((dict(dataframe), labels))\n",
    "    if shuffle:\n",
    "        ds = ds.shuffle(buffer_size=len(dataframe))\n",
    "    ds = ds.batch(batch_size)\n",
    "    return ds\n",
    "\n",
    "# Convert the dataframes into datasets\n",
    "train_ds = df_to_dataset(train_df)\n",
    "val_ds = df_to_dataset(val_df, shuffle=False)\n",
    "test_ds = df_to_dataset(test_df, shuffle=False)\n",
    "\n",
    "# Convert the X columns into numeric feature columns\n",
    "feature_columns = [feature_column.numeric_column(feature) for feature in X_columns]"
   ]
  },
  {
   "cell_type": "markdown",
   "metadata": {},
   "source": [
    "### Multi-Layer Perceptron (MLP) Model"
   ]
  },
  {
   "cell_type": "code",
   "execution_count": 12,
   "metadata": {},
   "outputs": [
    {
     "name": "stdout",
     "output_type": "stream",
     "text": [
      "Epoch 1/10\n",
      "26215/26215 [==============================] - 53s 1ms/step - loss: 0.3893 - accuracy: 0.8381 - val_loss: 0.3621 - val_accuracy: 0.8495\n",
      "Epoch 2/10\n",
      "26215/26215 [==============================] - 57s 2ms/step - loss: 0.2387 - accuracy: 0.9314 - val_loss: 0.1427 - val_accuracy: 0.9820\n",
      "Epoch 3/10\n",
      "26215/26215 [==============================] - 55s 2ms/step - loss: 0.1403 - accuracy: 0.9799 - val_loss: 0.1225 - val_accuracy: 0.9836\n",
      "Epoch 4/10\n",
      "26215/26215 [==============================] - 52s 1ms/step - loss: 0.1253 - accuracy: 0.9820 - val_loss: 0.1151 - val_accuracy: 0.9851\n",
      "Epoch 5/10\n",
      "26215/26215 [==============================] - 53s 2ms/step - loss: 0.1207 - accuracy: 0.9821 - val_loss: 0.1231 - val_accuracy: 0.9825\n",
      "Epoch 6/10\n",
      "26215/26215 [==============================] - 53s 1ms/step - loss: 0.1174 - accuracy: 0.9825 - val_loss: 0.1084 - val_accuracy: 0.9847\n",
      "Epoch 7/10\n",
      "26215/26215 [==============================] - 52s 2ms/step - loss: 0.1148 - accuracy: 0.9827 - val_loss: 0.1002 - val_accuracy: 0.9863\n",
      "Epoch 8/10\n",
      "26215/26215 [==============================] - 60s 2ms/step - loss: 0.1126 - accuracy: 0.9829 - val_loss: 0.1019 - val_accuracy: 0.9853\n",
      "Epoch 9/10\n",
      "26215/26215 [==============================] - 56s 2ms/step - loss: 0.1116 - accuracy: 0.9829 - val_loss: 0.0989 - val_accuracy: 0.9858\n",
      "Epoch 10/10\n",
      "26215/26215 [==============================] - 54s 2ms/step - loss: 0.1108 - accuracy: 0.9826 - val_loss: 0.1361 - val_accuracy: 0.9779\n",
      "5243/5243 [==============================] - 6s 1ms/step - loss: 0.1334 - accuracy: 0.9780\n"
     ]
    },
    {
     "data": {
      "image/png": "[encoded data removed]",
      "text/plain": [
       "<Figure size 576x576 with 2 Axes>"
      ]
     },
     "metadata": {
      "needs_background": "light"
     },
     "output_type": "display_data"
    }
   ],
   "source": [
    "def build_mlp_model(feature_columns):\n",
    "    \"\"\"Builds the MLP model.\n",
    "\n",
    "    Args:\n",
    "        feature_columns (list): The feature columns.\n",
    "\n",
    "    Returns:\n",
    "        tf.keras.Sequential: The MLP model.\n",
    "    \"\"\"\n",
    "    regularization = tf.keras.regularizers.l2(0.001)\n",
    "    \n",
    "    model = tf.keras.Sequential([\n",
    "        # Define the input layer\n",
    "        tf.keras.layers.DenseFeatures(feature_columns),\n",
    "        \n",
    "        # Define the hidden layers\n",
    "        tf.keras.layers.Dense(47, activation='tanh', kernel_regularizer=regularization),\n",
    "        tf.keras.layers.Dense(23, activation='tanh', kernel_regularizer=regularization),\n",
    "        tf.keras.layers.Dense(12, activation='tanh', kernel_regularizer=regularization),\n",
    "        tf.keras.layers.Dense(8, activation='tanh', kernel_regularizer=regularization),\n",
    "        \n",
    "        # Define the output layer\n",
    "        tf.keras.layers.Dense(8, activation='softmax')\n",
    "    ])\n",
    "    \n",
    "    model.compile(\n",
    "        optimizer='adam',\n",
    "        loss=tf.keras.losses.SparseCategoricalCrossentropy(),\n",
    "        metrics=['accuracy']\n",
    "    )\n",
    "    \n",
    "    return model\n",
    "\n",
    "# Define an early stopping callback\n",
    "early_stop = tf.keras.callbacks.EarlyStopping(monitor='val_loss', patience=3)\n",
    "\n",
    "# Build the model\n",
    "model = build_mlp_model(feature_columns)\n",
    "\n",
    "# Train the model\n",
    "epochs = 10\n",
    "history = model.fit(train_ds, validation_data=val_ds, epochs=epochs, callbacks=[early_stop])\n",
    "\n",
    "# Evaluate the model\n",
    "loss, accuracy = model.evaluate(test_ds)\n",
    "\n",
    "# Plot the training and validation accuracy\n",
    "# to see if the model is overfitting\n",
    "epochs_range = range(epochs)\n",
    "plt.figure(figsize=(8, 8))\n",
    "plt.subplot(1,2,1)\n",
    "plt.plot(epochs_range, history.history['accuracy'], label='Training Accuracy')\n",
    "plt.plot(epochs_range, history.history['val_accuracy'], label='Validation Accuracy')\n",
    "plt.legend(loc='lower right')\n",
    "plt.title('Training and Validation Accuracy')\n",
    "\n",
    "plt.subplot(1,2,2)\n",
    "plt.plot(epochs_range, history.history['loss'], label='Training Loss')\n",
    "plt.plot(epochs_range, history.history['val_loss'], label='Validation Loss')\n",
    "plt.legend(loc='upper right')\n",
    "plt.title('Training and Validation Loss')\n",
    "plt.show()"
   ]
  },
  {
   "cell_type": "code",
   "execution_count": 13,
   "metadata": {},
   "outputs": [
    {
     "name": "stdout",
     "output_type": "stream",
     "text": [
      "5243/5243 [==============================] - 6s 1ms/step\n"
     ]
    }
   ],
   "source": [
    "mlp_probabilities = model.predict(test_ds)"
   ]
  },
  {
   "cell_type": "code",
   "execution_count": 17,
   "metadata": {},
   "outputs": [
    {
     "name": "stdout",
     "output_type": "stream",
     "text": [
      "              precision    recall  f1-score   support\n",
      "\n",
      "      Benign     0.7173    0.9375    0.8127      3907\n",
      "        DDoS     0.9949    0.9907    0.9928    122244\n",
      "         DoS     0.9990    0.9822    0.9905     28905\n",
      "       Mirai     0.8931    0.9949    0.9413      9487\n",
      "       Recon     0.7338    0.4759    0.5774      1309\n",
      "    Spoofing     0.7786    0.4796    0.5936      1789\n",
      "         Web     0.0000    0.0000    0.0000        76\n",
      "  BruteForce     0.0000    0.0000    0.0000        55\n",
      "\n",
      "    accuracy                         0.9780    167772\n",
      "   macro avg     0.6396    0.6076    0.6135    167772\n",
      "weighted avg     0.9782    0.9780    0.9770    167772\n",
      "\n"
     ]
    }
   ],
   "source": [
    "# Get the predicted class indices\n",
    "predicted_classes = tf.argmax(mlp_probabilities, axis=1)\n",
    "\n",
    "# Convert to numpy array for easier inspection\n",
    "predicted_classes_mlp = predicted_classes.numpy()\n",
    "\n",
    "# Calculate the metrics of the model\n",
    "print(classification_report(y_test, predicted_classes_mlp, target_names=classes, zero_division=0, digits=4))"
   ]
  },
  {
   "cell_type": "markdown",
   "metadata": {},
   "source": [
    "### Radias Basis Function Network (RBFN) Model"
   ]
  },
  {
   "cell_type": "code",
   "execution_count": 18,
   "metadata": {},
   "outputs": [
    {
     "name": "stdout",
     "output_type": "stream",
     "text": [
      "Epoch 1/10\n",
      "26215/26215 [==============================] - 56s 2ms/step - loss: 0.4235 - accuracy: 0.8121 - val_loss: 0.3831 - val_accuracy: 0.8238\n",
      "Epoch 2/10\n",
      "26215/26215 [==============================] - 55s 2ms/step - loss: 0.3770 - accuracy: 0.8261 - val_loss: 0.3771 - val_accuracy: 0.8272\n",
      "Epoch 3/10\n",
      "26215/26215 [==============================] - 55s 2ms/step - loss: 0.3702 - accuracy: 0.8294 - val_loss: 0.3671 - val_accuracy: 0.8310\n",
      "Epoch 4/10\n",
      "26215/26215 [==============================] - 56s 2ms/step - loss: 0.3651 - accuracy: 0.8313 - val_loss: 0.3623 - val_accuracy: 0.8336\n",
      "Epoch 5/10\n",
      "26215/26215 [==============================] - 55s 2ms/step - loss: 0.3597 - accuracy: 0.8334 - val_loss: 0.3573 - val_accuracy: 0.8347\n",
      "Epoch 6/10\n",
      "26215/26215 [==============================] - 57s 2ms/step - loss: 0.3567 - accuracy: 0.8346 - val_loss: 0.3582 - val_accuracy: 0.8333\n",
      "Epoch 7/10\n",
      "26215/26215 [==============================] - 56s 2ms/step - loss: 0.3548 - accuracy: 0.8352 - val_loss: 0.3532 - val_accuracy: 0.8370\n",
      "Epoch 8/10\n",
      "26215/26215 [==============================] - 56s 2ms/step - loss: 0.3527 - accuracy: 0.8361 - val_loss: 0.3611 - val_accuracy: 0.8355\n",
      "Epoch 9/10\n",
      "26215/26215 [==============================] - 60s 2ms/step - loss: 0.3510 - accuracy: 0.8369 - val_loss: 0.3535 - val_accuracy: 0.8338\n",
      "Epoch 10/10\n",
      "26215/26215 [==============================] - 62s 2ms/step - loss: 0.3499 - accuracy: 0.8373 - val_loss: 0.3631 - val_accuracy: 0.8325\n",
      "5243/5243 [==============================] - 7s 1ms/step - loss: 0.3574 - accuracy: 0.8340\n"
     ]
    },
    {
     "data": {
      "image/png": "[encoded data removed]",
      "text/plain": [
       "<Figure size 576x576 with 2 Axes>"
      ]
     },
     "metadata": {
      "needs_background": "light"
     },
     "output_type": "display_data"
    }
   ],
   "source": [
    "class RBFLayer(Layer):\n",
    "    \"\"\"Implements a radial basis function layer.\n",
    "\n",
    "    Args:\n",
    "        output_dim (int): Number of radial basis functions (RBFs) or neurons in the layer.\n",
    "        betas (float or list of floats): Spread parameter(s) controlling the width of the RBFs.\n",
    "            If a single float, it is applied to all RBFs. If a list, each element corresponds\n",
    "            to the spread of a specific RBF.\n",
    "        **kwargs: Additional keyword arguments for the base Layer class.\n",
    "    \"\"\"\n",
    "    def __init__(self, output_dim, betas=1.0, **kwargs):\n",
    "        self.output_dim = output_dim\n",
    "        self.init_betas = betas\n",
    "   \n",
    "        super(RBFLayer, self).__init__(**kwargs)\n",
    "\n",
    "    def build(self, input_shape):\n",
    "        self.centers = self.add_weight(name='centers',\n",
    "                                       shape=(self.output_dim, input_shape[1]),\n",
    "                                       trainable=True)\n",
    "        self.betas = self.add_weight(name='betas',\n",
    "                                     shape=(self.output_dim,),\n",
    "                                     initializer=Constant(value=self.init_betas),\n",
    "                                     trainable=True)\n",
    "\n",
    "        super(RBFLayer, self).build(input_shape)\n",
    "\n",
    "    def call(self, inputs):\n",
    "        # Expand dimensions of centers to make it compatible with input\n",
    "        C = K.expand_dims(self.centers)\n",
    "\n",
    "        # Calculate the pairwise differences between each input and each center\n",
    "        # by subtracting the transposed inputs from the expanded centers\n",
    "        H = K.transpose(C - K.transpose(inputs))\n",
    "\n",
    "        # Compute the squared Euclidean distances between inputs and centers\n",
    "        squared_distances = K.sum(H**2, axis=1)\n",
    "\n",
    "        # Apply the Gaussian function to the squared distances\n",
    "        activation = K.exp(-self.betas * squared_distances)\n",
    "\n",
    "        return activation\n",
    "\n",
    "    def compute_output_shape(self, input_shape):\n",
    "        return (input_shape[0], self.output_dim)\n",
    "\n",
    "def build_rbfn_model(feature_columns):    \n",
    "    model = tf.keras.Sequential([\n",
    "        # Define the input layer\n",
    "        tf.keras.layers.DenseFeatures(feature_columns),\n",
    "        \n",
    "        # Hidden layer with RBF activation function\n",
    "        RBFLayer(28, .1),\n",
    "        \n",
    "        # Output layer\n",
    "        tf.keras.layers.Dense(8, activation='softmax')\n",
    "    ])\n",
    "\n",
    "    model.compile(optimizer='adam',\n",
    "                    loss=tf.keras.losses.SparseCategoricalCrossentropy(),\n",
    "                    metrics=['accuracy'])\n",
    "\n",
    "    return model\n",
    "\n",
    "# Define an early stopping callback\n",
    "early_stop = tf.keras.callbacks.EarlyStopping(monitor='val_loss', patience=3)\n",
    "\n",
    "# Build the model\n",
    "model = build_rbfn_model(feature_columns)\n",
    "\n",
    "# Train the model\n",
    "epochs = 10\n",
    "history = model.fit(train_ds, validation_data=val_ds, epochs=epochs, callbacks=[early_stop])\n",
    "\n",
    "# Evaluate the model\n",
    "loss, accuracy = model.evaluate(test_ds)\n",
    "\n",
    "# Plot the training and validation accuracy\n",
    "# to see if the model is overfitting\n",
    "epochs_range = range(epochs)\n",
    "plt.figure(figsize=(8, 8))\n",
    "plt.subplot(1,2,1)\n",
    "plt.plot(epochs_range, history.history['accuracy'], label='Training Accuracy')\n",
    "plt.plot(epochs_range, history.history['val_accuracy'], label='Validation Accuracy')\n",
    "plt.legend(loc='lower right')\n",
    "plt.title('Training and Validation Accuracy')\n",
    "\n",
    "plt.subplot(1,2,2)\n",
    "plt.plot(epochs_range, history.history['loss'], label='Training Loss')\n",
    "plt.plot(epochs_range, history.history['val_loss'], label='Validation Loss')\n",
    "plt.legend(loc='upper right')\n",
    "plt.title('Training and Validation Loss')\n",
    "plt.show()\n"
   ]
  },
  {
   "cell_type": "code",
   "execution_count": 19,
   "metadata": {},
   "outputs": [
    {
     "name": "stdout",
     "output_type": "stream",
     "text": [
      "5243/5243 [==============================] - 7s 1ms/step\n"
     ]
    }
   ],
   "source": [
    "rbfn_probabilities = model.predict(test_ds)"
   ]
  },
  {
   "cell_type": "code",
   "execution_count": 20,
   "metadata": {},
   "outputs": [
    {
     "name": "stdout",
     "output_type": "stream",
     "text": [
      "              precision    recall  f1-score   support\n",
      "\n",
      "      Benign     0.5731    0.9995    0.7285      3907\n",
      "        DDoS     0.8339    0.9923    0.9063    122244\n",
      "         DoS     0.8787    0.1617    0.2731     28905\n",
      "       Mirai     0.9987    0.9900    0.9943      9487\n",
      "       Recon     0.7876    0.3117    0.4466      1309\n",
      "    Spoofing     0.9405    0.1325    0.2322      1789\n",
      "         Web     0.0000    0.0000    0.0000        76\n",
      "  BruteForce     0.0000    0.0000    0.0000        55\n",
      "\n",
      "    accuracy                         0.8340    167772\n",
      "   macro avg     0.6266    0.4485    0.4476    167772\n",
      "weighted avg     0.8450    0.8340    0.7865    167772\n",
      "\n"
     ]
    }
   ],
   "source": [
    "# Get the predicted class indices\n",
    "predicted_classes = tf.argmax(rbfn_probabilities, axis=1)\n",
    "\n",
    "# Convert to numpy array for easier inspection\n",
    "predicted_classes_rbfn = predicted_classes.numpy()\n",
    "\n",
    "# Calculate the metrics of the model\n",
    "print(classification_report(y_test, predicted_classes_rbfn, target_names=classes, zero_division=0, digits=4))"
   ]
  }
 ],
 "metadata": {
  "kernelspec": {
   "display_name": "Python 3",
   "language": "python",
   "name": "python3"
  },
  "language_info": {
   "codemirror_mode": {
    "name": "ipython",
    "version": 3
   },
   "file_extension": ".py",
   "mimetype": "text/x-python",
   "name": "python",
   "nbconvert_exporter": "python",
   "pygments_lexer": "ipython3",
   "version": "3.9.13"
  }
 },
 "nbformat": 4,
 "nbformat_minor": 2
}
