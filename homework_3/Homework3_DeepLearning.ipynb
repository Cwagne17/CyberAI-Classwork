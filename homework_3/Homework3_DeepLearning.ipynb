{
 "cells": [
  {
   "cell_type": "markdown",
   "metadata": {},
   "source": [
    "# Homework 3 - Deep Learning\n",
    "***Author: Christopher Wagner***"
   ]
  },
  {
   "cell_type": "code",
   "execution_count": 2,
   "metadata": {},
   "outputs": [],
   "source": [
    "# Import libraries...\n",
    "import pandas as pd\n",
    "from sklearn.model_selection import train_test_split\n",
    "import numpy as np\n",
    "from sklearn.neural_network import MLPClassifier\n",
    "from sklearn.model_selection import GridSearchCV\n",
    "from pandas import Series\n",
    "from sklearn.preprocessing import StandardScaler"
   ]
  },
  {
   "cell_type": "markdown",
   "metadata": {},
   "source": [
    "### Import Dataset"
   ]
  },
  {
   "cell_type": "code",
   "execution_count": 3,
   "metadata": {},
   "outputs": [],
   "source": [
    "# DATASET_DIRECTORY = \"../datasets/CICIoT2023/\"\n",
    "\n",
    "# data_files = [k for k in os.listdir(DATASET_DIRECTORY) if k.endswith('.csv')]\n",
    "# df = pd.concat([pd.read_csv(DATASET_DIRECTORY + filename) for filename in data_files])\n",
    "\n",
    "# Using smaller dataset for testing purposes, has 1_048_575 rows\n",
    "DATASET_FILE = \"../datasets/IoT_Intrusion.csv\"\n",
    "df = pd.read_csv(DATASET_FILE)\n",
    "\n",
    "# Define the features and target columns\n",
    "X_columns = df.columns.to_list()[:-1]\n",
    "y_column = 'label'\n",
    "\n",
    "X = df[X_columns]\n",
    "y = df[y_column]"
   ]
  },
  {
   "cell_type": "markdown",
   "metadata": {},
   "source": [
    "### Define Binary Classification Labels"
   ]
  },
  {
   "cell_type": "code",
   "execution_count": 5,
   "metadata": {},
   "outputs": [],
   "source": [
    "dict_2classes = {}\n",
    "dict_2classes['DDoS-RSTFINFlood'] = 'Attack'\n",
    "dict_2classes['DDoS-PSHACK_Flood'] = 'Attack'\n",
    "dict_2classes['DDoS-SYN_Flood'] = 'Attack'\n",
    "dict_2classes['DDoS-UDP_Flood'] = 'Attack'\n",
    "dict_2classes['DDoS-TCP_Flood'] = 'Attack'\n",
    "dict_2classes['DDoS-ICMP_Flood'] = 'Attack'\n",
    "dict_2classes['DDoS-SynonymousIP_Flood'] = 'Attack'\n",
    "dict_2classes['DDoS-ACK_Fragmentation'] = 'Attack'\n",
    "dict_2classes['DDoS-UDP_Fragmentation'] = 'Attack'\n",
    "dict_2classes['DDoS-ICMP_Fragmentation'] = 'Attack'\n",
    "dict_2classes['DDoS-SlowLoris'] = 'Attack'\n",
    "dict_2classes['DDoS-HTTP_Flood'] = 'Attack'\n",
    "\n",
    "dict_2classes['DoS-UDP_Flood'] = 'Attack'\n",
    "dict_2classes['DoS-SYN_Flood'] = 'Attack'\n",
    "dict_2classes['DoS-TCP_Flood'] = 'Attack'\n",
    "dict_2classes['DoS-HTTP_Flood'] = 'Attack'\n",
    "\n",
    "dict_2classes['Mirai-greeth_flood'] = 'Attack'\n",
    "dict_2classes['Mirai-greip_flood'] = 'Attack'\n",
    "dict_2classes['Mirai-udpplain'] = 'Attack'\n",
    "\n",
    "dict_2classes['Recon-PingSweep'] = 'Attack'\n",
    "dict_2classes['Recon-OSScan'] = 'Attack'\n",
    "dict_2classes['Recon-PortScan'] = 'Attack'\n",
    "dict_2classes['VulnerabilityScan'] = 'Attack'\n",
    "dict_2classes['Recon-HostDiscovery'] = 'Attack'\n",
    "\n",
    "dict_2classes['DNS_Spoofing'] = 'Attack'\n",
    "dict_2classes['MITM-ArpSpoofing'] = 'Attack'\n",
    "\n",
    "dict_2classes['BenignTraffic'] = 'Benign'\n",
    "\n",
    "dict_2classes['BrowserHijacking'] = 'Attack'\n",
    "dict_2classes['Backdoor_Malware'] = 'Attack'\n",
    "dict_2classes['XSS'] = 'Attack'\n",
    "dict_2classes['Uploading_Attack'] = 'Attack'\n",
    "dict_2classes['SqlInjection'] = 'Attack'\n",
    "dict_2classes['CommandInjection'] = 'Attack'\n",
    "\n",
    "dict_2classes['DictionaryBruteForce'] = 'Attack'\n",
    "\n",
    "def map_label_to_binary_classes(y: Series):\n",
    "    \"\"\"Maps the labels to binary classes.\n",
    "\n",
    "    Args:\n",
    "        y (Series): The current labels. \n",
    "\n",
    "    Returns:\n",
    "        list: The new labels.\n",
    "    \"\"\"\n",
    "    return [dict_2classes[label] for label in y]"
   ]
  },
  {
   "cell_type": "markdown",
   "metadata": {},
   "source": [
    "### Define Multi-Class Classification Labels"
   ]
  },
  {
   "cell_type": "code",
   "execution_count": 6,
   "metadata": {},
   "outputs": [],
   "source": [
    "dict_8classes = {}\n",
    "dict_8classes['DDoS-RSTFINFlood'] = 'DDoS'\n",
    "dict_8classes['DDoS-PSHACK_Flood'] = 'DDoS'\n",
    "dict_8classes['DDoS-SYN_Flood'] = 'DDoS'\n",
    "dict_8classes['DDoS-UDP_Flood'] = 'DDoS'\n",
    "dict_8classes['DDoS-TCP_Flood'] = 'DDoS'\n",
    "dict_8classes['DDoS-ICMP_Flood'] = 'DDoS'\n",
    "dict_8classes['DDoS-SynonymousIP_Flood'] = 'DDoS'\n",
    "dict_8classes['DDoS-ACK_Fragmentation'] = 'DDoS'\n",
    "dict_8classes['DDoS-UDP_Fragmentation'] = 'DDoS'\n",
    "dict_8classes['DDoS-ICMP_Fragmentation'] = 'DDoS'\n",
    "dict_8classes['DDoS-SlowLoris'] = 'DDoS'\n",
    "dict_8classes['DDoS-HTTP_Flood'] = 'DDoS'\n",
    "\n",
    "dict_8classes['DoS-UDP_Flood'] = 'DoS'\n",
    "dict_8classes['DoS-SYN_Flood'] = 'DoS'\n",
    "dict_8classes['DoS-TCP_Flood'] = 'DoS'\n",
    "dict_8classes['DoS-HTTP_Flood'] = 'DoS'\n",
    "\n",
    "dict_8classes['Mirai-greeth_flood'] = 'Mirai'\n",
    "dict_8classes['Mirai-greip_flood'] = 'Mirai'\n",
    "dict_8classes['Mirai-udpplain'] = 'Mirai'\n",
    "\n",
    "dict_8classes['Recon-PingSweep'] = 'Recon'\n",
    "dict_8classes['Recon-OSScan'] = 'Recon'\n",
    "dict_8classes['Recon-PortScan'] = 'Recon'\n",
    "dict_8classes['VulnerabilityScan'] = 'Recon'\n",
    "dict_8classes['Recon-HostDiscovery'] = 'Recon'\n",
    "\n",
    "dict_8classes['DNS_Spoofing'] = 'Spoofing'\n",
    "dict_8classes['MITM-ArpSpoofing'] = 'Spoofing'\n",
    "\n",
    "dict_8classes['BenignTraffic'] = 'Benign'\n",
    "\n",
    "dict_8classes['BrowserHijacking'] = 'Web'\n",
    "dict_8classes['Backdoor_Malware'] = 'Web'\n",
    "dict_8classes['XSS'] = 'Web'\n",
    "dict_8classes['Uploading_Attack'] = 'Web'\n",
    "dict_8classes['SqlInjection'] = 'Web'\n",
    "dict_8classes['CommandInjection'] = 'Web'\n",
    "\n",
    "dict_8classes['DictionaryBruteForce'] = 'BruteForce'\n",
    "\n",
    "def map_label_to_8_classes(y: Series):\n",
    "    \"\"\"Maps the labels to 8 classes.\n",
    "\n",
    "    Args:\n",
    "        y (Series): The current labels. \n",
    "\n",
    "    Returns:\n",
    "        list: The new labels.\n",
    "    \"\"\"\n",
    "    return [dict_8classes[label] for label in y]"
   ]
  },
  {
   "cell_type": "markdown",
   "metadata": {},
   "source": [
    "### Split the Dataset into Training and Test Sets"
   ]
  },
  {
   "cell_type": "code",
   "execution_count": 7,
   "metadata": {},
   "outputs": [],
   "source": [
    "# Splitting the dataset into the Training set and Test set\n",
    "X_train, X_test, y_train, y_test = train_test_split(X, y, train_size=.8, random_state=42)"
   ]
  },
  {
   "cell_type": "markdown",
   "metadata": {},
   "source": [
    "### Pre-Process the Data"
   ]
  },
  {
   "cell_type": "code",
   "execution_count": 8,
   "metadata": {},
   "outputs": [],
   "source": [
    "sc = StandardScaler()\n",
    "sc.fit(X_train)\n",
    "\n",
    "X_train = sc.transform(X_train)\n",
    "X_test = sc.transform(X_test)"
   ]
  },
  {
   "cell_type": "markdown",
   "metadata": {},
   "source": [
    "### Multi-Layer Perceptron (MLP) Model"
   ]
  },
  {
   "cell_type": "code",
   "execution_count": 14,
   "metadata": {},
   "outputs": [],
   "source": [
    "def create_mlp_grid_search(activation_functions: list):\n",
    "    \"\"\"Creates a grid search for the MLPClassifier.\n",
    "\n",
    "    Returns:\n",
    "        GridSearchCV: The grid search.\n",
    "    \"\"\"\n",
    "    mlpc = MLPClassifier(\n",
    "        solver='adam',\n",
    "        learning_rate_init=0.01,\n",
    "        max_iter=300,\n",
    "        early_stopping=True,\n",
    "        verbose=1,\n",
    "    )\n",
    "\n",
    "    param_grid = {\n",
    "        # L2 penalty (regularization term) parameter. i.e [0.1, 0.01, 0.001, 0.0001]\n",
    "        'alpha': 10.0 ** -np.arange(1, 5),\n",
    "        \n",
    "        'activation': activation_functions,\n",
    "        \n",
    "        'hidden_layer_sizes': [\n",
    "            # number of hidden neurons should be between the size \n",
    "            # of the input layer and the size of the output layer.\n",
    "            (47, 23, 12, 7), # decreases by ~2 each layer\n",
    "            \n",
    "            # number of hidden neurons should be 2/3 the size of \n",
    "            # the input layer, plus the size of the output layer.\n",
    "            (38, 32, 28, 25, 23, 22),\n",
    "            \n",
    "            # number of hidden neurons should be less than twice \n",
    "            # the size of the input layer.\n",
    "            (94, 47, 23, 12, 7) # decreases by ~2 each layer\n",
    "        ],\n",
    "    }\n",
    "\n",
    "    return GridSearchCV(mlpc, param_grid, scoring='accuracy', n_jobs=-1, verbose=3)"
   ]
  },
  {
   "cell_type": "markdown",
   "metadata": {},
   "source": [
    "### Binary Classification Model"
   ]
  },
  {
   "cell_type": "code",
   "execution_count": 15,
   "metadata": {},
   "outputs": [
    {
     "name": "stdout",
     "output_type": "stream",
     "text": [
      "Fitting 5 folds for each of 24 candidates, totalling 120 fits\n",
      "Iteration 1, loss = 0.02941278\n",
      "Validation score: 0.991035\n",
      "Iteration 2, loss = 0.01730797\n",
      "Validation score: 0.992716\n",
      "Iteration 3, loss = 0.01657170\n",
      "Validation score: 0.992633\n",
      "Iteration 4, loss = 0.01615270\n",
      "Validation score: 0.992895\n",
      "Iteration 5, loss = 0.01612154\n",
      "Validation score: 0.993086\n",
      "Iteration 6, loss = 0.01595642\n",
      "Validation score: 0.992692\n",
      "Iteration 7, loss = 0.01593939\n",
      "Validation score: 0.992430\n",
      "Iteration 8, loss = 0.01595209\n",
      "Validation score: 0.992883\n",
      "Iteration 9, loss = 0.01589978\n",
      "Validation score: 0.993348\n",
      "Iteration 10, loss = 0.01567903\n",
      "Validation score: 0.992728\n",
      "Iteration 11, loss = 0.01567733\n",
      "Validation score: 0.992537\n",
      "Iteration 12, loss = 0.01560748\n",
      "Validation score: 0.992764\n",
      "Iteration 13, loss = 0.01580669\n",
      "Validation score: 0.993074\n",
      "Iteration 14, loss = 0.01577090\n",
      "Validation score: 0.993539\n",
      "Iteration 15, loss = 0.01570535\n",
      "Validation score: 0.993610\n",
      "Iteration 16, loss = 0.01567015\n",
      "Validation score: 0.993443\n",
      "Iteration 17, loss = 0.01561134\n",
      "Validation score: 0.992943\n",
      "Iteration 18, loss = 0.01549038\n",
      "Validation score: 0.993014\n",
      "Iteration 19, loss = 0.01539686\n",
      "Validation score: 0.992633\n",
      "Iteration 20, loss = 0.01555734\n",
      "Validation score: 0.993706\n",
      "Iteration 21, loss = 0.01554680\n",
      "Validation score: 0.993265\n",
      "Iteration 22, loss = 0.01538232\n",
      "Validation score: 0.993408\n",
      "Iteration 23, loss = 0.01543537\n",
      "Validation score: 0.993086\n",
      "Iteration 24, loss = 0.01542375\n",
      "Validation score: 0.993193\n",
      "Iteration 25, loss = 0.01541727\n",
      "Validation score: 0.993050\n",
      "Validation score did not improve more than tol=0.000100 for 10 consecutive epochs. Stopping.\n"
     ]
    },
    {
     "data": {
      "text/plain": [
       "{'activation': 'logistic',\n",
       " 'alpha': 0.0001,\n",
       " 'hidden_layer_sizes': (47, 23, 12, 7)}"
      ]
     },
     "execution_count": 15,
     "metadata": {},
     "output_type": "execute_result"
    }
   ],
   "source": [
    "# Fit the grid search to the data\n",
    "binary_grid_search = create_mlp_grid_search(['logistic', 'tanh'])\n",
    "binary_grid_search.fit(X_train, map_label_to_binary_classes(y_train))\n",
    "binary_grid_search.best_params_"
   ]
  },
  {
   "cell_type": "code",
   "execution_count": 16,
   "metadata": {},
   "outputs": [
    {
     "data": {
      "text/plain": [
       "0.9939107836826169"
      ]
     },
     "execution_count": 16,
     "metadata": {},
     "output_type": "execute_result"
    }
   ],
   "source": [
    "# Predicting the Test set results\n",
    "y_pred = binary_grid_search.predict(X_test)\n",
    "\n",
    "accuracy = binary_grid_search.score(X_test, map_label_to_binary_classes(y_test))\n",
    "accuracy"
   ]
  },
  {
   "cell_type": "markdown",
   "metadata": {},
   "source": [
    "### Multi-Class Classification Experiment"
   ]
  },
  {
   "cell_type": "code",
   "execution_count": 17,
   "metadata": {},
   "outputs": [
    {
     "name": "stdout",
     "output_type": "stream",
     "text": [
      "Fitting 5 folds for each of 24 candidates, totalling 120 fits\n",
      "Iteration 1, loss = 0.38649299\n",
      "Validation score: 0.841046\n",
      "Iteration 2, loss = 0.29116265\n",
      "Validation score: 0.973011\n",
      "Iteration 3, loss = 0.20832354\n",
      "Validation score: 0.933922\n",
      "Iteration 4, loss = 0.18097904\n",
      "Validation score: 0.968052\n",
      "Iteration 5, loss = 0.19592880\n",
      "Validation score: 0.964106\n",
      "Iteration 6, loss = 0.21177554\n",
      "Validation score: 0.981594\n",
      "Iteration 7, loss = 0.22095671\n",
      "Validation score: 0.954367\n",
      "Iteration 8, loss = 0.21973654\n",
      "Validation score: 0.939012\n",
      "Iteration 9, loss = 0.23377279\n",
      "Validation score: 0.975836\n",
      "Iteration 10, loss = 0.26777093\n",
      "Validation score: 0.973834\n",
      "Iteration 11, loss = 0.24847950\n",
      "Validation score: 0.975419\n",
      "Iteration 12, loss = 0.23559799\n",
      "Validation score: 0.954212\n",
      "Iteration 13, loss = 0.25460708\n",
      "Validation score: 0.916458\n",
      "Iteration 14, loss = 0.20596957\n",
      "Validation score: 0.967158\n",
      "Iteration 15, loss = 0.26450168\n",
      "Validation score: 0.982357\n",
      "Iteration 16, loss = 0.23770274\n",
      "Validation score: 0.925971\n",
      "Iteration 17, loss = 0.24264650\n",
      "Validation score: 0.926603\n",
      "Iteration 18, loss = 0.26658167\n",
      "Validation score: 0.930787\n",
      "Iteration 19, loss = 0.19487920\n",
      "Validation score: 0.884856\n",
      "Iteration 20, loss = 0.26498808\n",
      "Validation score: 0.924993\n",
      "Iteration 21, loss = 0.23264625\n",
      "Validation score: 0.916303\n",
      "Iteration 22, loss = 0.25056173\n",
      "Validation score: 0.980736\n",
      "Iteration 23, loss = 0.25125684\n",
      "Validation score: 0.905932\n",
      "Iteration 24, loss = 0.26128628\n",
      "Validation score: 0.921775\n",
      "Iteration 25, loss = 0.22859592\n",
      "Validation score: 0.983251\n",
      "Iteration 26, loss = 0.17790029\n",
      "Validation score: 0.973679\n",
      "Iteration 27, loss = 0.17921553\n",
      "Validation score: 0.932563\n",
      "Iteration 28, loss = 0.20781239\n",
      "Validation score: 0.982381\n",
      "Iteration 29, loss = 0.23651484\n",
      "Validation score: 0.883520\n",
      "Iteration 30, loss = 0.23628121\n",
      "Validation score: 0.967432\n",
      "Iteration 31, loss = 0.23813780\n",
      "Validation score: 0.976301\n",
      "Iteration 32, loss = 0.17572956\n",
      "Validation score: 0.975181\n",
      "Iteration 33, loss = 0.19327461\n",
      "Validation score: 0.979317\n",
      "Iteration 34, loss = 0.21246188\n",
      "Validation score: 0.969292\n",
      "Iteration 35, loss = 0.21738883\n",
      "Validation score: 0.965870\n",
      "Iteration 36, loss = 0.20944372\n",
      "Validation score: 0.974775\n",
      "Validation score did not improve more than tol=0.000100 for 10 consecutive epochs. Stopping.\n"
     ]
    },
    {
     "data": {
      "text/plain": [
       "{'activation': 'tanh', 'alpha': 0.1, 'hidden_layer_sizes': (47, 23, 12, 7)}"
      ]
     },
     "execution_count": 17,
     "metadata": {},
     "output_type": "execute_result"
    }
   ],
   "source": [
    "# Fit the grid search to the data\n",
    "multi_grid_search = create_mlp_grid_search(['tanh', 'relu'])\n",
    "multi_grid_search.fit(X_train, map_label_to_8_classes(y_train))\n",
    "multi_grid_search.best_params_"
   ]
  },
  {
   "cell_type": "code",
   "execution_count": 18,
   "metadata": {},
   "outputs": [
    {
     "data": {
      "text/plain": [
       "0.9829912023460411"
      ]
     },
     "execution_count": 18,
     "metadata": {},
     "output_type": "execute_result"
    }
   ],
   "source": [
    "# Predicting the Test set results\n",
    "y_pred = multi_grid_search.predict(X_test)\n",
    "\n",
    "accuracy = multi_grid_search.score(X_test, map_label_to_8_classes(y_test))\n",
    "accuracy"
   ]
  }
 ],
 "metadata": {
  "kernelspec": {
   "display_name": "Python 3",
   "language": "python",
   "name": "python3"
  },
  "language_info": {
   "codemirror_mode": {
    "name": "ipython",
    "version": 3
   },
   "file_extension": ".py",
   "mimetype": "text/x-python",
   "name": "python",
   "nbconvert_exporter": "python",
   "pygments_lexer": "ipython3",
   "version": "3.9.13"
  }
 },
 "nbformat": 4,
 "nbformat_minor": 2
}
