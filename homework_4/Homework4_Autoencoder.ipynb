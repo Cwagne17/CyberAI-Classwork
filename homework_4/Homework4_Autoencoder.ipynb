{
 "cells": [
  {
   "cell_type": "markdown",
   "metadata": {},
   "source": [
    "# Homework 4 - Autoencoder\n",
    "***Author: Christopher Wagner***"
   ]
  },
  {
   "cell_type": "code",
   "execution_count": 1,
   "metadata": {},
   "outputs": [],
   "source": [
    "# Import libraries...\n",
    "import pandas as pd\n",
    "import matplotlib.pyplot as plt\n",
    "\n",
    "from sklearn.model_selection import train_test_split\n",
    "from sklearn.preprocessing import StandardScaler\n",
    "from sklearn.metrics import classification_report\n",
    "\n",
    "import tensorflow as tf\n",
    "from tensorflow import feature_column"
   ]
  },
  {
   "cell_type": "markdown",
   "metadata": {},
   "source": [
    "### Multi Class Mappings"
   ]
  },
  {
   "cell_type": "code",
   "execution_count": 8,
   "metadata": {},
   "outputs": [],
   "source": [
    "# Map the labels to 8 classes\n",
    "label_class_map = {\n",
    "    \"DDoS-RSTFINFlood\": \"DDoS\",\n",
    "    \"DDoS-PSHACK_Flood\": \"DDoS\",\n",
    "    \"DDoS-SYN_Flood\": \"DDoS\",\n",
    "    \"DDoS-UDP_Flood\": \"DDoS\",\n",
    "    \"DDoS-TCP_Flood\": \"DDoS\",\n",
    "    \"DDoS-ICMP_Flood\": \"DDoS\",\n",
    "    \"DDoS-SynonymousIP_Flood\": \"DDoS\",\n",
    "    \"DDoS-ACK_Fragmentation\": \"DDoS\",\n",
    "    \"DDoS-UDP_Fragmentation\": \"DDoS\",\n",
    "    \"DDoS-ICMP_Fragmentation\": \"DDoS\",\n",
    "    \"DDoS-SlowLoris\": \"DDoS\",\n",
    "    \"DDoS-HTTP_Flood\": \"DDoS\",\n",
    "    \n",
    "    \"DoS-UDP_Flood\": \"DoS\",\n",
    "    \"DoS-SYN_Flood\": \"DoS\",\n",
    "    \"DoS-TCP_Flood\": \"DoS\",\n",
    "    \"DoS-HTTP_Flood\": \"DoS\",\n",
    "    \n",
    "    \"Mirai-greeth_flood\": \"Mirai\",\n",
    "    \"Mirai-greip_flood\": \"Mirai\",\n",
    "    \"Mirai-udpplain\": \"Mirai\",\n",
    "    \n",
    "    \"Recon-PingSweep\": \"Recon\",\n",
    "    \"Recon-OSScan\": \"Recon\",\n",
    "    \"Recon-PortScan\": \"Recon\",\n",
    "    \"VulnerabilityScan\": \"Recon\",\n",
    "    \"Recon-HostDiscovery\": \"Recon\",\n",
    "    \n",
    "    \"DNS_Spoofing\": \"Spoofing\",\n",
    "    \"MITM-ArpSpoofing\": \"Spoofing\",\n",
    "    \n",
    "    \"BenignTraffic\": \"Benign\",\n",
    "    \n",
    "    \"BrowserHijacking\": \"Web\",\n",
    "    \"Backdoor_Malware\": \"Web\",\n",
    "    \"XSS\": \"Web\",\n",
    "    \"Uploading_Attack\": \"Web\",\n",
    "    \"SqlInjection\": \"Web\",\n",
    "    \"CommandInjection\": \"Web\",\n",
    "    \n",
    "    \"DictionaryBruteForce\": \"BruteForce\"   \n",
    "}\n",
    "\n",
    "# Map the labels to 8 classes\n",
    "# classes = ['Benign', 'DDoS', 'DoS', 'Mirai', 'Recon', 'Spoofing', 'Web', 'BruteForce']\n",
    "classes = ['Benign', 'DDoS', 'DoS', 'Mirai', 'Recon', 'Spoofing']\n",
    "\n",
    "def map_label_to_number(y: pd.Series):\n",
    "    \"\"\"Maps the labels to 8 numeric classes.\n",
    "\n",
    "    Args:\n",
    "        y (pd.Series): The current labels. \n",
    "\n",
    "    Returns:\n",
    "        list: The new labels.\n",
    "    \"\"\"\n",
    "    return [classes.index(label_class_map[label]) for label in y]\n",
    "\n",
    "def map_number_to_class(y: pd.Series):\n",
    "    \"\"\"Maps the 8 numeric classes to their respective labels.\n",
    "\n",
    "    Args:\n",
    "        y (pd.Series): The current labels. \n",
    "\n",
    "    Returns:\n",
    "        list: The new labels.\n",
    "    \"\"\"\n",
    "    return [classes[label] for label in y]"
   ]
  },
  {
   "cell_type": "markdown",
   "metadata": {},
   "source": [
    "### Import Dataset"
   ]
  },
  {
   "cell_type": "code",
   "execution_count": 5,
   "metadata": {},
   "outputs": [
    {
     "data": {
      "text/plain": [
       "(1047713, 47)"
      ]
     },
     "execution_count": 5,
     "metadata": {},
     "output_type": "execute_result"
    }
   ],
   "source": [
    "# Using smaller dataset for testing purposes, has 1_048_575 rows\n",
    "DATASET_FILE = \"../datasets/IoT_Intrusion.csv\"\n",
    "df = pd.read_csv(DATASET_FILE)\n",
    "\n",
    "# Rename columns\n",
    "df.rename(columns={\n",
    "    \"Protocol Type\": \"Protocol_Type\",\n",
    "    \"Tot sum\": \"Tot_sum\",\n",
    "    \"Tot size\": \"Tot_size\",\n",
    "    \"label\": \"target\"\n",
    "}, inplace=True)\n",
    "\n",
    "# Remove rows with the \n",
    "classes_to_remove = [ \"BrowserHijacking\", \"Backdoor_Malware\", \"XSS\", \"Uploading_Attack\", \"SqlInjection\", \"CommandInjection\", \"DictionaryBruteForce\" ]\n",
    "df = df[~df.target.isin(classes_to_remove)]\n",
    "\n",
    "df.shape"
   ]
  },
  {
   "cell_type": "code",
   "execution_count": 9,
   "metadata": {},
   "outputs": [
    {
     "name": "stdout",
     "output_type": "stream",
     "text": [
      "Index(['flow_duration', 'Header_Length', 'Protocol_Type', 'Duration', 'Rate',\n",
      "       'Srate', 'Drate', 'fin_flag_number', 'syn_flag_number',\n",
      "       'rst_flag_number', 'psh_flag_number', 'ack_flag_number',\n",
      "       'ece_flag_number', 'cwr_flag_number', 'ack_count', 'syn_count',\n",
      "       'fin_count', 'urg_count', 'rst_count', 'HTTP', 'HTTPS', 'DNS', 'Telnet',\n",
      "       'SMTP', 'SSH', 'IRC', 'TCP', 'UDP', 'DHCP', 'ARP', 'ICMP', 'IPv', 'LLC',\n",
      "       'Tot_sum', 'Min', 'Max', 'AVG', 'Std', 'Tot_size', 'IAT', 'Number',\n",
      "       'Magnitue', 'Radius', 'Covariance', 'Variance', 'Weight', 'target'],\n",
      "      dtype='object')\n"
     ]
    }
   ],
   "source": [
    "# Define the features and target columns\n",
    "X_columns = df.columns.to_list()[:-1]\n",
    "y_column = 'target'\n",
    "\n",
    "X = df[X_columns]\n",
    "y = df[y_column]\n",
    "\n",
    "# Map the target column to numerical values\n",
    "y = map_label_to_number(y)\n",
    "\n",
    "# print headers\n",
    "print(df.columns)"
   ]
  },
  {
   "cell_type": "code",
   "execution_count": 10,
   "metadata": {},
   "outputs": [
    {
     "name": "stdout",
     "output_type": "stream",
     "text": [
      "          dataset\n",
      "Benign     763525\n",
      "DDoS       181481\n",
      "DoS         59233\n",
      "Mirai       24476\n",
      "Recon       11053\n",
      "Spoofing     7945\n"
     ]
    }
   ],
   "source": [
    "data_counts = {\n",
    "    \"dataset\": pd.Series(map_number_to_class(y)).value_counts().to_list(),\n",
    "}\n",
    "print(pd.DataFrame(data_counts, index=classes))"
   ]
  },
  {
   "cell_type": "markdown",
   "metadata": {},
   "source": [
    "### Split the Dataset into Training and Test Sets"
   ]
  },
  {
   "cell_type": "code",
   "execution_count": 11,
   "metadata": {},
   "outputs": [
    {
     "name": "stdout",
     "output_type": "stream",
     "text": [
      "           train    test  validation   total\n",
      "Benign    611108  121883       30534  763525\n",
      "DDoS      144999   29199        7283  181481\n",
      "DoS        47295    9583        2355   59233\n",
      "Mirai      19583    3926         967   24476\n",
      "Recon       8809    1766         478   11053\n",
      "Spoofing    6376    1277         292    7945\n"
     ]
    }
   ],
   "source": [
    "# Split the data into training and testing sets\n",
    "X_train, X_test, y_train, y_test = train_test_split(X, y, test_size=0.2)\n",
    "X_test, X_val, y_test, y_val = train_test_split(X_test, y_test, test_size=0.2)\n",
    "\n",
    "# Print the basic statistics of the training set\n",
    "data_counts = {\n",
    "    \"train\": pd.Series(map_number_to_class(y_train)).value_counts().to_list(),\n",
    "    \"test\": pd.Series(map_number_to_class(y_test)).value_counts().to_list(),\n",
    "    \"validation\": pd.Series(map_number_to_class(y_val)).value_counts().to_list(),\n",
    "    \"total\": pd.Series(y).value_counts().to_list(),\n",
    "}\n",
    "print(pd.DataFrame(data_counts, index=classes))"
   ]
  },
  {
   "cell_type": "markdown",
   "metadata": {},
   "source": [
    "### Pre-Process the Data"
   ]
  },
  {
   "cell_type": "code",
   "execution_count": 12,
   "metadata": {},
   "outputs": [
    {
     "name": "stdout",
     "output_type": "stream",
     "text": [
      "WARNING:tensorflow:From C:\\Users\\chris\\AppData\\Local\\Temp\\ipykernel_18408\\1863410143.py:42: numeric_column (from tensorflow.python.feature_column.feature_column_v2) is deprecated and will be removed in a future version.\n",
      "Instructions for updating:\n",
      "Use Keras preprocessing layers instead, either directly or via the `tf.keras.utils.FeatureSpace` utility. Each of `tf.feature_column.*` has a functional equivalent in `tf.keras.layers` for feature preprocessing when training a Keras model.\n"
     ]
    }
   ],
   "source": [
    "# Standardize the data\n",
    "ss = StandardScaler(copy=True, with_mean=True, with_std=True)\n",
    "\n",
    "# Fit the scaler on the training data\n",
    "ss.fit(X_train)\n",
    "\n",
    "# Transform the training, validation, and testing data\n",
    "X_train = ss.transform(X_train)\n",
    "X_test = ss.transform(X_test)\n",
    "X_val = ss.transform(X_val)\n",
    "\n",
    "# Convert the data into dataframes\n",
    "train_df = pd.DataFrame(X_train, columns=X_columns).assign(target=y_train)\n",
    "val_df = pd.DataFrame(X_val, columns=X_columns).assign(target=y_val)\n",
    "test_df = pd.DataFrame(X_test, columns=X_columns).assign(target=y_test)\n",
    "\n",
    "def df_to_dataset(dataframe, shuffle=True, batch_size=32):\n",
    "    \"\"\"Converts a dataframe to a dataset.\n",
    "\n",
    "    Args:\n",
    "        dataframe (DataFrame): The dataframe to convert. \n",
    "        shuffle (bool, optional): Enables whether the dataset should be shuffled. Defaults to True.\n",
    "        batch_size (int, optional): Determines the batch size of the dataset. Defaults to 32.\n",
    "\n",
    "    Returns:\n",
    "        tf.data.Dataset: The converted dataset.\n",
    "    \"\"\"\n",
    "    dataframe = dataframe.copy()\n",
    "    labels = dataframe.pop('target')\n",
    "    ds = tf.data.Dataset.from_tensor_slices((dict(dataframe), labels))\n",
    "    if shuffle:\n",
    "        ds = ds.shuffle(buffer_size=len(dataframe))\n",
    "    ds = ds.batch(batch_size)\n",
    "    return ds\n",
    "\n",
    "# Convert the dataframes into datasets\n",
    "train_ds = df_to_dataset(train_df)\n",
    "val_ds = df_to_dataset(val_df, shuffle=False)\n",
    "test_ds = df_to_dataset(test_df, shuffle=False)\n",
    "\n",
    "# Convert the X columns into numeric feature columns\n",
    "feature_columns = [feature_column.numeric_column(feature) for feature in X_columns]"
   ]
  },
  {
   "cell_type": "markdown",
   "metadata": {},
   "source": [
    "### Autoencoder"
   ]
  },
  {
   "cell_type": "code",
   "execution_count": 13,
   "metadata": {},
   "outputs": [
    {
     "name": "stdout",
     "output_type": "stream",
     "text": [
      "Epoch 1/10\n",
      "26193/26193 [==============================] - 94s 3ms/step - loss: 0.1932 - accuracy: 0.9217 - val_loss: 0.1181 - val_accuracy: 0.9477\n",
      "Epoch 2/10\n",
      "26193/26193 [==============================] - 57s 2ms/step - loss: 0.0508 - accuracy: 0.9818 - val_loss: 0.0359 - val_accuracy: 0.9872\n",
      "Epoch 3/10\n",
      "26193/26193 [==============================] - 59s 2ms/step - loss: 0.0376 - accuracy: 0.9860 - val_loss: 0.0314 - val_accuracy: 0.9886\n",
      "Epoch 4/10\n",
      "26193/26193 [==============================] - 58s 2ms/step - loss: 0.0320 - accuracy: 0.9880 - val_loss: 0.0301 - val_accuracy: 0.9890\n",
      "Epoch 5/10\n",
      "26193/26193 [==============================] - 72s 2ms/step - loss: 0.0289 - accuracy: 0.9891 - val_loss: 0.0294 - val_accuracy: 0.9891\n",
      "Epoch 6/10\n",
      "26193/26193 [==============================] - 345s 12ms/step - loss: 0.0275 - accuracy: 0.9897 - val_loss: 0.0325 - val_accuracy: 0.9885\n",
      "Epoch 7/10\n",
      "26193/26193 [==============================] - 63s 2ms/step - loss: 0.0265 - accuracy: 0.9898 - val_loss: 0.0293 - val_accuracy: 0.9889\n",
      "Epoch 8/10\n",
      "26193/26193 [==============================] - 64s 2ms/step - loss: 0.0268 - accuracy: 0.9898 - val_loss: 0.0267 - val_accuracy: 0.9900\n",
      "Epoch 9/10\n",
      "26193/26193 [==============================] - 58s 2ms/step - loss: 0.0252 - accuracy: 0.9902 - val_loss: 0.0269 - val_accuracy: 0.9899\n",
      "Epoch 10/10\n",
      "26193/26193 [==============================] - 63s 2ms/step - loss: 0.0247 - accuracy: 0.9903 - val_loss: 0.0277 - val_accuracy: 0.9893\n",
      "5239/5239 [==============================] - 8s 1ms/step\n"
     ]
    }
   ],
   "source": [
    "class AutoencoderMLP(tf.keras.Model):\n",
    "    def __init__(self, feature_columns):\n",
    "        super(AutoencoderMLP, self).__init__()\n",
    "        \n",
    "        # Input layer using DenseFeatures\n",
    "        self.input_layer = tf.keras.layers.DenseFeatures(feature_columns)\n",
    "        \n",
    "        self.encoder = tf.keras.Sequential([\n",
    "            self.input_layer,\n",
    "            \n",
    "            tf.keras.layers.Dense(32, activation=\"tanh\"),\n",
    "            tf.keras.layers.Dense(16, activation=\"tanh\"),\n",
    "            tf.keras.layers.Dense(8, activation=\"tanh\"),\n",
    "        ])\n",
    "        \n",
    "        self.decoder = tf.keras.Sequential([\n",
    "            tf.keras.layers.Dense(16, activation=\"tanh\"),\n",
    "            tf.keras.layers.Dense(32, activation=\"tanh\"),\n",
    "            tf.keras.layers.Dense(len(feature_columns), activation=\"sigmoid\")\n",
    "        ])\n",
    "\n",
    "    def call(self, x):\n",
    "        encoded = self.encoder(x)\n",
    "        decoded = self.decoder(encoded)\n",
    "        return decoded\n",
    "    \n",
    "# Define the early stopping callback\n",
    "early_stop = tf.keras.callbacks.EarlyStopping(monitor='val_loss', patience=2, restore_best_weights=True)\n",
    "\n",
    "# Instantiate the Autoencoder\n",
    "autoencoder_mlp = AutoencoderMLP(feature_columns)\n",
    "\n",
    "# Train the Autoencoder\n",
    "autoencoder_mlp.compile(optimizer='adam', loss=tf.keras.losses.SparseCategoricalCrossentropy(), metrics=['accuracy'])\n",
    "autoencoder_mlp.fit(train_ds, validation_data=val_ds, epochs=10, callbacks=[early_stop])\n",
    "\n",
    "# Retrieve the reconstructed data\n",
    "reconstructed_data = autoencoder_mlp.predict(test_ds)"
   ]
  },
  {
   "cell_type": "code",
   "execution_count": 14,
   "metadata": {},
   "outputs": [
    {
     "name": "stdout",
     "output_type": "stream",
     "text": [
      "Mean Squared Error (MSE): 0.9945480963002441\n"
     ]
    }
   ],
   "source": [
    "from sklearn.metrics import mean_squared_error\n",
    "\n",
    "original_data = pd.DataFrame(X_test, columns=X_columns)\n",
    "\n",
    "mse = mean_squared_error(original_data, reconstructed_data)\n",
    "\n",
    "print(f'Mean Squared Error (MSE): {mse}')\n"
   ]
  },
  {
   "cell_type": "markdown",
   "metadata": {},
   "source": [
    "### Multi-Layer Perceptron (MLP) Model"
   ]
  },
  {
   "cell_type": "code",
   "execution_count": 15,
   "metadata": {},
   "outputs": [],
   "source": [
    "def build_mlp_model(input_layer):\n",
    "    \"\"\"Builds the MLP model.\n",
    "\n",
    "    Args:\n",
    "        input_layer (tf.keras.layers.Layer): The input layer.\n",
    "\n",
    "    Returns:\n",
    "        tf.keras.Sequential: The MLP model.\n",
    "    \"\"\"\n",
    "    regularization = tf.keras.regularizers.l2(0.001)\n",
    "    \n",
    "    model = tf.keras.Sequential([\n",
    "        # Define the input layer\n",
    "        input_layer,\n",
    "        \n",
    "        # Define the hidden layers\n",
    "        tf.keras.layers.Dense(47, activation='tanh', kernel_regularizer=regularization),\n",
    "        tf.keras.layers.Dense(23, activation='tanh', kernel_regularizer=regularization),\n",
    "        tf.keras.layers.Dense(12, activation='tanh', kernel_regularizer=regularization),\n",
    "        tf.keras.layers.Dense(8, activation='tanh', kernel_regularizer=regularization),\n",
    "        \n",
    "        # Define the output layer\n",
    "        tf.keras.layers.Dense(8, activation='softmax')\n",
    "    ])\n",
    "    \n",
    "    model.compile(\n",
    "        optimizer='adam',\n",
    "        loss=tf.keras.losses.SparseCategoricalCrossentropy(),\n",
    "        metrics=['accuracy']\n",
    "    )\n",
    "    \n",
    "    return model"
   ]
  },
  {
   "cell_type": "markdown",
   "metadata": {},
   "source": [
    "### MLP with Autoencoder"
   ]
  },
  {
   "cell_type": "code",
   "execution_count": 16,
   "metadata": {},
   "outputs": [
    {
     "name": "stdout",
     "output_type": "stream",
     "text": [
      "Epoch 1/10\n",
      "26193/26193 [==============================] - 62s 2ms/step - loss: 0.0634 - accuracy: 0.9874 - val_loss: 0.0408 - val_accuracy: 0.9897\n",
      "Epoch 2/10\n",
      "26193/26193 [==============================] - 61s 2ms/step - loss: 0.0393 - accuracy: 0.9899 - val_loss: 0.0447 - val_accuracy: 0.9875\n",
      "Epoch 3/10\n",
      "26193/26193 [==============================] - 61s 2ms/step - loss: 0.0368 - accuracy: 0.9900 - val_loss: 0.0365 - val_accuracy: 0.9897\n",
      "Epoch 4/10\n",
      "26193/26193 [==============================] - 62s 2ms/step - loss: 0.0355 - accuracy: 0.9901 - val_loss: 0.0338 - val_accuracy: 0.9909\n",
      "Epoch 5/10\n",
      "26193/26193 [==============================] - 61s 2ms/step - loss: 0.0341 - accuracy: 0.9903 - val_loss: 0.0353 - val_accuracy: 0.9899\n",
      "Epoch 6/10\n",
      "26193/26193 [==============================] - 63s 2ms/step - loss: 0.0334 - accuracy: 0.9903 - val_loss: 0.0429 - val_accuracy: 0.9887\n",
      "5239/5239 [==============================] - 7s 1ms/step - loss: 0.0335 - accuracy: 0.9907\n"
     ]
    },
    {
     "data": {
      "image/png": "[encoded data removed]",
      "text/plain": [
       "<Figure size 576x576 with 2 Axes>"
      ]
     },
     "metadata": {
      "needs_background": "light"
     },
     "output_type": "display_data"
    }
   ],
   "source": [
    "# Define the number of epochs and the early stopping callback\n",
    "epochs = 10\n",
    "\n",
    "# Build the model\n",
    "encoder = autoencoder_mlp.layers[1]\n",
    "model = build_mlp_model(encoder)\n",
    "\n",
    "# Train the model\n",
    "history = model.fit(train_ds, validation_data=val_ds, epochs=epochs, callbacks=[early_stop])\n",
    "\n",
    "# Evaluate the model\n",
    "loss, accuracy = model.evaluate(test_ds)\n",
    "\n",
    "# Plot the training and validation accuracy\n",
    "# to see if the model is overfitting\n",
    "epochs_range = range(len(history.history['loss']))\n",
    "plt.figure(figsize=(8, 8))\n",
    "plt.subplot(1,2,1)\n",
    "plt.plot(epochs_range, history.history['accuracy'], label='Training Accuracy')\n",
    "plt.plot(epochs_range, history.history['val_accuracy'], label='Validation Accuracy')\n",
    "plt.legend(loc='lower right')\n",
    "plt.title('Training and Validation Accuracy')\n",
    "\n",
    "plt.subplot(1,2,2)\n",
    "plt.plot(epochs_range, history.history['loss'], label='Training Loss')\n",
    "plt.plot(epochs_range, history.history['val_loss'], label='Validation Loss')\n",
    "plt.legend(loc='upper right')\n",
    "plt.title('Training and Validation Loss')\n",
    "plt.show()"
   ]
  },
  {
   "cell_type": "code",
   "execution_count": 17,
   "metadata": {},
   "outputs": [
    {
     "name": "stdout",
     "output_type": "stream",
     "text": [
      "5239/5239 [==============================] - 7s 1ms/step\n",
      "              precision    recall  f1-score   support\n",
      "\n",
      "      Benign     0.7721    0.9743    0.8615      3926\n",
      "        DDoS     0.9990    0.9996    0.9993    121883\n",
      "         DoS     0.9991    0.9968    0.9980     29199\n",
      "       Mirai     0.9984    0.9990    0.9987      9583\n",
      "       Recon     0.8613    0.5153    0.6448      1277\n",
      "    Spoofing     0.8713    0.6093    0.7171      1766\n",
      "\n",
      "    accuracy                         0.9907    167634\n",
      "   macro avg     0.9168    0.8490    0.8699    167634\n",
      "weighted avg     0.9912    0.9907    0.9901    167634\n",
      "\n"
     ]
    }
   ],
   "source": [
    "mlp_probabilities = model.predict(test_ds)\n",
    "\n",
    "# Get the predicted class indices\n",
    "predicted_classes = tf.argmax(mlp_probabilities, axis=1)\n",
    "\n",
    "# Convert to numpy array for easier inspection\n",
    "predicted_classes_mlp = predicted_classes.numpy()\n",
    "\n",
    "# Calculate the metrics of the model\n",
    "print(classification_report(y_test, predicted_classes_mlp, target_names=classes, zero_division=0, digits=4))"
   ]
  },
  {
   "cell_type": "markdown",
   "metadata": {},
   "source": [
    "### MLP baseline"
   ]
  },
  {
   "cell_type": "code",
   "execution_count": 18,
   "metadata": {},
   "outputs": [
    {
     "name": "stdout",
     "output_type": "stream",
     "text": [
      "Epoch 1/10\n",
      "26193/26193 [==============================] - 56s 2ms/step - loss: 0.3830 - accuracy: 0.8390 - val_loss: 0.3613 - val_accuracy: 0.8421\n",
      "Epoch 2/10\n",
      "26193/26193 [==============================] - 57s 2ms/step - loss: 0.2444 - accuracy: 0.9244 - val_loss: 0.1338 - val_accuracy: 0.9850\n",
      "Epoch 3/10\n",
      "26193/26193 [==============================] - 57s 2ms/step - loss: 0.1333 - accuracy: 0.9824 - val_loss: 0.1309 - val_accuracy: 0.9811\n",
      "Epoch 4/10\n",
      "26193/26193 [==============================] - 57s 2ms/step - loss: 0.1239 - accuracy: 0.9832 - val_loss: 0.1128 - val_accuracy: 0.9858\n",
      "Epoch 5/10\n",
      "26193/26193 [==============================] - 57s 2ms/step - loss: 0.1179 - accuracy: 0.9835 - val_loss: 0.1053 - val_accuracy: 0.9873\n",
      "Epoch 6/10\n",
      "26193/26193 [==============================] - 57s 2ms/step - loss: 0.1153 - accuracy: 0.9835 - val_loss: 0.1075 - val_accuracy: 0.9851\n",
      "Epoch 7/10\n",
      "26193/26193 [==============================] - 56s 2ms/step - loss: 0.1266 - accuracy: 0.9781 - val_loss: 0.1387 - val_accuracy: 0.9767\n",
      "5239/5239 [==============================] - 7s 1ms/step - loss: 0.1033 - accuracy: 0.9874\n"
     ]
    },
    {
     "data": {
      "image/png": "[encoded data removed]",
      "text/plain": [
       "<Figure size 576x576 with 2 Axes>"
      ]
     },
     "metadata": {
      "needs_background": "light"
     },
     "output_type": "display_data"
    }
   ],
   "source": [
    "# Define the number of epochs and the early stopping callback\n",
    "epochs = 10\n",
    "\n",
    "# Build the model\n",
    "model = build_mlp_model(tf.keras.layers.DenseFeatures(feature_columns))\n",
    "\n",
    "# Train the model\n",
    "history = model.fit(train_ds, validation_data=val_ds, epochs=epochs, callbacks=[early_stop])\n",
    "\n",
    "# Evaluate the model\n",
    "loss, accuracy = model.evaluate(test_ds)\n",
    "\n",
    "# Plot the training and validation accuracy\n",
    "# to see if the model is overfitting\n",
    "epochs_range = range(len(history.history['loss']))\n",
    "plt.figure(figsize=(8, 8))\n",
    "plt.subplot(1,2,1)\n",
    "plt.plot(epochs_range, history.history['accuracy'], label='Training Accuracy')\n",
    "plt.plot(epochs_range, history.history['val_accuracy'], label='Validation Accuracy')\n",
    "plt.legend(loc='lower right')\n",
    "plt.title('Training and Validation Accuracy')\n",
    "\n",
    "plt.subplot(1,2,2)\n",
    "plt.plot(epochs_range, history.history['loss'], label='Training Loss')\n",
    "plt.plot(epochs_range, history.history['val_loss'], label='Validation Loss')\n",
    "plt.legend(loc='upper right')\n",
    "plt.title('Training and Validation Loss')\n",
    "plt.show()"
   ]
  },
  {
   "cell_type": "code",
   "execution_count": 19,
   "metadata": {},
   "outputs": [
    {
     "name": "stdout",
     "output_type": "stream",
     "text": [
      "5239/5239 [==============================] - 7s 1ms/step\n",
      "              precision    recall  f1-score   support\n",
      "\n",
      "      Benign     0.7559    0.9356    0.8362      3926\n",
      "        DDoS     0.9981    0.9984    0.9983    121883\n",
      "         DoS     0.9947    0.9940    0.9943     29199\n",
      "       Mirai     0.9961    0.9897    0.9929      9583\n",
      "       Recon     0.7271    0.5842    0.6479      1277\n",
      "    Spoofing     0.8012    0.5136    0.6259      1766\n",
      "\n",
      "    accuracy                         0.9874    167634\n",
      "   macro avg     0.8789    0.8359    0.8492    167634\n",
      "weighted avg     0.9876    0.9874    0.9869    167634\n",
      "\n"
     ]
    }
   ],
   "source": [
    "mlp_probabilities = model.predict(test_ds)\n",
    "\n",
    "# Get the predicted class indices\n",
    "predicted_classes = tf.argmax(mlp_probabilities, axis=1)\n",
    "\n",
    "# Convert to numpy array for easier inspection\n",
    "predicted_classes_mlp = predicted_classes.numpy()\n",
    "\n",
    "# Calculate the metrics of the model\n",
    "print(classification_report(y_test, predicted_classes_mlp, target_names=classes, zero_division=0, digits=4))"
   ]
  }
 ],
 "metadata": {
  "kernelspec": {
   "display_name": "Python 3",
   "language": "python",
   "name": "python3"
  },
  "language_info": {
   "codemirror_mode": {
    "name": "ipython",
    "version": 3
   },
   "file_extension": ".py",
   "mimetype": "text/x-python",
   "name": "python",
   "nbconvert_exporter": "python",
   "pygments_lexer": "ipython3",
   "version": "3.9.13"
  }
 },
 "nbformat": 4,
 "nbformat_minor": 2
}
