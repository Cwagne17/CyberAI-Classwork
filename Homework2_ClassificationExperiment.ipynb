{
 "cells": [
  {
   "cell_type": "markdown",
   "metadata": {},
   "source": [
    "# Experimentation with Classification"
   ]
  },
  {
   "cell_type": "markdown",
   "metadata": {},
   "source": [
    "## Load Data and Pre-processing\n",
    "\n",
    "The dataset selected is the [CIC-MalMem-2022 from the University of New Brunswick](https://www.unb.ca/cic/datasets/malmem-2022.html).\n",
    "\n",
    "The dataset is tailored for assessing memory-based obfuscated malware detection techniques. It simulates real-world scenarios by featuring common malware types like Spyware, Ransomware, and Trojan Horses, offering a well-balanced dataset for testing obfuscated malware detection systems. Notably, it employs debug mode during memory dump processes to emulate the conditions typical users might encounter during a malware attack, enhancing its realism.\n",
    "\n",
    "In the current form of the dataset, two columns, `Class` and `Category` can be used to represent the classifiers for the row. The `Class` column is a binary classifier that indicates whether the row is malware or benign. The `Category` column is a multi-class classifier that indicates the type of malware the row is.\n",
    "\n",
    "The pre-processing of the data is done by splitting `Category` into two additional columns `mal_category` and `mal_family`. This is done to be able to perform more in depth experiments on the accuracy of the classifiers. The hypothesis is that the more specifc the classifier is; the less accurate the classifier will be. The most specific classifier will be the `mal_family`, followed by `mal_category`, and finally `Class`.\n",
    "\n"
   ]
  },
  {
   "cell_type": "code",
   "execution_count": 1,
   "metadata": {},
   "outputs": [],
   "source": [
    "import numpy as np\n",
    "import pandas as pd"
   ]
  },
  {
   "cell_type": "markdown",
   "metadata": {},
   "source": [
    "Reads the data from the csv file and splits the `Category` column into two columns `mal_category` and `mal_family`."
   ]
  },
  {
   "cell_type": "code",
   "execution_count": 2,
   "metadata": {},
   "outputs": [],
   "source": [
    "# Only reads in this code block for caching purposes\n",
    "\n",
    "cic_malware_memory = pd.read_csv(\"datasets/Obfuscated-MalMem2022.csv\")"
   ]
  },
  {
   "cell_type": "code",
   "execution_count": 3,
   "metadata": {},
   "outputs": [],
   "source": [
    "# Split `Category` column into `mal_category` and `mal_family`\n",
    "\n",
    "mal_categories = []\n",
    "mal_families = []\n",
    "\n",
    "for index, row in cic_malware_memory.iterrows():\n",
    "    # Category is formatted as `category-family-filehash`\n",
    "    category = row[\"Category\"].split(\"-\")\n",
    "\n",
    "    # If the length of the list is greater than 2,\n",
    "    # then the category is the first element and\n",
    "    # the family is the second element\n",
    "    if len(category) > 2:\n",
    "        mal_categories.append(category[0])\n",
    "        mal_families.append(category[1])\n",
    "\n",
    "    # Otherwise, the category and family are just\n",
    "    # labelled as Benign\n",
    "    else:\n",
    "        mal_categories.append(\"Benign\")\n",
    "        mal_families.append(\"Benign\")\n",
    "\n",
    "# Add the new columns to the dataframe\n",
    "cic_malware_memory[\"mal_category\"] = mal_categories\n",
    "cic_malware_memory[\"mal_family\"] = mal_families\n"
   ]
  },
  {
   "cell_type": "code",
   "execution_count": 4,
   "metadata": {},
   "outputs": [],
   "source": [
    "# The training and testing data will be split using the holdout method\n",
    "# because the dataset is balanced the split will be 50/50\n",
    "\n",
    "# Split the dataset into training and testing sets\n",
    "\n",
    "train = cic_malware_memory.sample(frac=0.5, random_state=42)\n",
    "test = cic_malware_memory.drop(train.index)\n",
    "\n",
    "# Creates a list of all the features in the dataset\n",
    "features = cic_malware_memory.columns.drop([\"mal_category\", \"mal_family\", \"Class\", \"Category\"]).to_list()\n",
    "\n",
    "# Create the different classes for the three trial types\n",
    "\n",
    "# Trial 1: Benign vs Malware\n",
    "train_classes_trial1 = train[\"Class\"].to_numpy().ravel()\n",
    "test_classes_trial1 = test[\"Class\"].to_numpy().ravel()\n",
    "\n",
    "# Trial 2: Malware Category\n",
    "train_classes_trial2 = train[\"mal_category\"].to_numpy().ravel()\n",
    "test_classes_trial2 = test[\"mal_category\"].to_numpy().ravel()\n",
    "\n",
    "# Trial 3: Malware Family\n",
    "train_classes_trial3 = train[\"mal_family\"].to_numpy().ravel()\n",
    "test_classes_trial3 = test[\"mal_family\"].to_numpy().ravel()\n",
    "\n",
    "# Separate the observations data\n",
    "train_observations = train[features].to_numpy()\n",
    "test_observations = test[features].to_numpy()"
   ]
  },
  {
   "cell_type": "markdown",
   "metadata": {},
   "source": [
    "## K Nearest Neighbor Classifier"
   ]
  },
  {
   "cell_type": "code",
   "execution_count": 5,
   "metadata": {},
   "outputs": [],
   "source": [
    "from sklearn.neighbors import KNeighborsClassifier\n",
    "\n",
    "def knn_experiment(n, train_observations, train_classes, test_observations) -> np.ndarray:\n",
    "    \"\"\"Performs a KNN experiment with the given parameters\n",
    "\n",
    "    Parameters:\n",
    "        n (int): The number of neighbors to use\n",
    "        train_observations (ndarray): The training observations\n",
    "        train_classes (ndarray): The training classes\n",
    "        test_observations (ndarray): The testing observations\n",
    "\n",
    "    Returns:\n",
    "        ndarray: The predictions of the model\n",
    "    \"\"\"\n",
    "    knn = KNeighborsClassifier(n_neighbors=n, weights=\"distance\")\n",
    "    knn.fit(train_observations, train_classes)\n",
    "\n",
    "    predictions = knn.predict(test_observations)\n",
    "    \n",
    "    return predictions"
   ]
  },
  {
   "cell_type": "markdown",
   "metadata": {},
   "source": [
    "## Decision Tree Classifier"
   ]
  },
  {
   "cell_type": "code",
   "execution_count": 6,
   "metadata": {},
   "outputs": [],
   "source": [
    "from sklearn.tree import DecisionTreeClassifier\n",
    "\n",
    "def dt_experiment(train_observations, train_classes, test_observations) -> np.ndarray:\n",
    "    \"\"\"Performs a Decision Tree experiment with the given parameters\n",
    "\n",
    "    Parameters:\n",
    "        train_observations (ndarray): The training observations\n",
    "        train_classes (ndarray): The training classes\n",
    "        test_observations (ndarray): The testing observations\n",
    "\n",
    "    Returns:\n",
    "        ndarray: The predictions of the model\n",
    "    \"\"\"\n",
    "    dt = DecisionTreeClassifier()\n",
    "    dt.fit(train_observations, train_classes)\n",
    "    \n",
    "    predictions = dt.predict(test_observations)\n",
    "    return predictions"
   ]
  },
  {
   "cell_type": "markdown",
   "metadata": {},
   "source": [
    "## Random Forest Classifier"
   ]
  },
  {
   "cell_type": "code",
   "execution_count": 7,
   "metadata": {},
   "outputs": [],
   "source": [
    "from sklearn.ensemble import RandomForestClassifier\n",
    "\n",
    "def rf_experiment(train_observations, train_classes, test_observations) -> np.ndarray:\n",
    "    \"\"\"Performs a Random Forest experiment with the given parameters\n",
    "\n",
    "    Parameters:\n",
    "        train_observations (ndarray): The training observations\n",
    "        train_classes (ndarray): The training classes\n",
    "        test_observations (ndarray): The testing observations\n",
    "\n",
    "    Returns:\n",
    "        ndarray: The predictions\n",
    "    \"\"\"\n",
    "    rf = RandomForestClassifier()\n",
    "    rf.fit(train_observations, train_classes)\n",
    "    \n",
    "    predictions = rf.predict(test_observations)\n",
    "    return predictions\n"
   ]
  },
  {
   "cell_type": "markdown",
   "metadata": {},
   "source": [
    "## Stacked Ensemble Classifier"
   ]
  },
  {
   "cell_type": "code",
   "execution_count": 32,
   "metadata": {},
   "outputs": [],
   "source": [
    "from sklearn.ensemble import StackingClassifier\n",
    "from sklearn.linear_model import LogisticRegression\n",
    "from sklearn.naive_bayes import GaussianNB\n",
    "\n",
    "def ensemble_experiment(train_observations, train_classes, test_observations) -> np.ndarray:\n",
    "    \"\"\"Performs an ensemble experiment with the given parameters\n",
    "\n",
    "    Parameters:\n",
    "        train_observations (ndarray): The training observations\n",
    "        train_classes (ndarray): The training classes\n",
    "        test_observations (ndarray): The testing observations\n",
    "\n",
    "    Returns:\n",
    "        ndarray: The predictions\n",
    "    \"\"\"\n",
    "    estimators = [\n",
    "        (\"nb\", GaussianNB()),\n",
    "        (\"dt\", DecisionTreeClassifier()),\n",
    "        (\"rf\", RandomForestClassifier())\n",
    "    ]\n",
    "\n",
    "    ensemble = StackingClassifier(estimators=estimators, final_estimator=LogisticRegression(max_iter=1000))\n",
    "    ensemble.fit(train_observations, train_classes)\n",
    "\n",
    "    predictions = ensemble.predict(test_observations)\n",
    "    return predictions"
   ]
  },
  {
   "cell_type": "markdown",
   "metadata": {},
   "source": [
    "## Results"
   ]
  },
  {
   "cell_type": "markdown",
   "metadata": {},
   "source": [
    "### Calculate Metrics for a DataFrame"
   ]
  },
  {
   "cell_type": "code",
   "execution_count": 23,
   "metadata": {},
   "outputs": [],
   "source": [
    "import matplotlib.pyplot as plt\n",
    "from sklearn.metrics import precision_score, recall_score, f1_score, accuracy_score, confusion_matrix, ConfusionMatrixDisplay\n",
    "\n",
    "def calculate_metrics(y_true, y_pred):\n",
    "    \"\"\"Calculate the precision, recall, f1 score, and accuracy of the model.\n",
    "\n",
    "    Args:\n",
    "        y_true (numpy.ndarray): The true labels of the data\n",
    "        y_pred (numpy.ndarray): The predicted labels of the data\n",
    "\n",
    "    Returns:\n",
    "        float: The precision of the model\n",
    "        float: The recall of the model\n",
    "        float: The f1 score of the model\n",
    "        float: The accuracy of the model\n",
    "    \"\"\"\n",
    "    precision = precision_score(y_true, y_pred, average=\"macro\")\n",
    "    recall = recall_score(y_true, y_pred, average=\"macro\")\n",
    "    f1 = f1_score(y_true, y_pred, average=\"macro\")\n",
    "    accuracy = accuracy_score(y_true, y_pred)\n",
    "\n",
    "    return precision, recall, f1, accuracy\n",
    "\n",
    "\n",
    "def display_confusion_matrix(y_true, predictions_map, labels):\n",
    "    f, axes = plt.subplots(1, len(predictions_map.keys()), figsize=(20, 5), sharey='row')\n",
    "    \n",
    "    for i, (key, predictions) in enumerate(predictions_map.items()):\n",
    "        cfm = confusion_matrix(y_true, predictions, labels=labels, normalize=\"true\")\n",
    "        disp = ConfusionMatrixDisplay(confusion_matrix=cfm, display_labels=labels)\n",
    "        disp.plot(\n",
    "            cmap=\"Blues\",\n",
    "            colorbar=False,\n",
    "            ax=axes[i],\n",
    "            xticks_rotation=45\n",
    "        )\n",
    "        disp.ax_.set_title(key)\n",
    "        disp.ax_.set_xlabel('')\n",
    "        if i!=0:\n",
    "            disp.ax_.set_ylabel('')\n",
    "    \n",
    "    f.text(0.4, 0, 'Predicted label', ha='left')\n",
    "    plt.subplots_adjust(wspace=0.4, hspace=0.1)\n",
    "    f.colorbar(disp.im_, ax=axes)\n",
    "    plt.show()\n",
    "\n"
   ]
  },
  {
   "cell_type": "markdown",
   "metadata": {},
   "source": [
    "### Trial 1: Benign vs Malware"
   ]
  },
  {
   "cell_type": "code",
   "execution_count": 30,
   "metadata": {},
   "outputs": [
    {
     "data": {
      "text/html": [
       "<div>\n",
       "<style scoped>\n",
       "    .dataframe tbody tr th:only-of-type {\n",
       "        vertical-align: middle;\n",
       "    }\n",
       "\n",
       "    .dataframe tbody tr th {\n",
       "        vertical-align: top;\n",
       "    }\n",
       "\n",
       "    .dataframe thead th {\n",
       "        text-align: right;\n",
       "    }\n",
       "</style>\n",
       "<table border=\"1\" class=\"dataframe\">\n",
       "  <thead>\n",
       "    <tr style=\"text-align: right;\">\n",
       "      <th></th>\n",
       "      <th>Precision</th>\n",
       "      <th>Recall</th>\n",
       "      <th>F1 Score</th>\n",
       "      <th>Accuracy</th>\n",
       "    </tr>\n",
       "  </thead>\n",
       "  <tbody>\n",
       "    <tr>\n",
       "      <th>KNN</th>\n",
       "      <td>0.999284</td>\n",
       "      <td>0.999283</td>\n",
       "      <td>0.999283</td>\n",
       "      <td>0.999283</td>\n",
       "    </tr>\n",
       "    <tr>\n",
       "      <th>Decision Tree</th>\n",
       "      <td>0.999795</td>\n",
       "      <td>0.999795</td>\n",
       "      <td>0.999795</td>\n",
       "      <td>0.999795</td>\n",
       "    </tr>\n",
       "    <tr>\n",
       "      <th>Random Forest</th>\n",
       "      <td>0.999932</td>\n",
       "      <td>0.999932</td>\n",
       "      <td>0.999932</td>\n",
       "      <td>0.999932</td>\n",
       "    </tr>\n",
       "    <tr>\n",
       "      <th>Ensemble</th>\n",
       "      <td>0.999932</td>\n",
       "      <td>0.999932</td>\n",
       "      <td>0.999932</td>\n",
       "      <td>0.999932</td>\n",
       "    </tr>\n",
       "  </tbody>\n",
       "</table>\n",
       "</div>"
      ],
      "text/plain": [
       "               Precision    Recall  F1 Score  Accuracy\n",
       "KNN             0.999284  0.999283  0.999283  0.999283\n",
       "Decision Tree   0.999795  0.999795  0.999795  0.999795\n",
       "Random Forest   0.999932  0.999932  0.999932  0.999932\n",
       "Ensemble        0.999932  0.999932  0.999932  0.999932"
      ]
     },
     "metadata": {},
     "output_type": "display_data"
    },
    {
     "data": {
      "image/png": "[encoded data removed]",
      "text/plain": [
       "<Figure size 2000x500 with 5 Axes>"
      ]
     },
     "metadata": {},
     "output_type": "display_data"
    }
   ],
   "source": [
    "# KNN Experiment\n",
    "trial1_knn_predictions = knn_experiment(5, train_observations, train_classes_trial1, test_observations)\n",
    "\n",
    "# Decision Tree Experiment\n",
    "trial1_dt_predictions = dt_experiment(train_observations, train_classes_trial1, test_observations)\n",
    "\n",
    "# Random Forest Experiment\n",
    "trial1_rf_predictions = rf_experiment(train_observations, train_classes_trial1, test_observations)\n",
    "\n",
    "# Ensemble Experiment\n",
    "trial1_ensemble_predictions = ensemble_experiment(train_observations, train_classes_trial1, test_observations)\n",
    "\n",
    "# Calculate the metrics\n",
    "trial1_knn_metrics = calculate_metrics(test_classes_trial1, trial1_knn_predictions)\n",
    "trial1_dt_metrics = calculate_metrics(test_classes_trial1, trial1_dt_predictions)\n",
    "trial1_rf_metrics = calculate_metrics(test_classes_trial1, trial1_rf_predictions)\n",
    "trial1_ensemble_metrics = calculate_metrics(test_classes_trial1, trial1_ensemble_predictions)\n",
    "\n",
    "\n",
    "# Create a DataFrame with the results\n",
    "results = pd.DataFrame(columns=[\"Precision\", \"Recall\", \"F1 Score\", \"Accuracy\"])\n",
    "results.loc[\"KNN\"] = trial1_knn_metrics\n",
    "results.loc[\"Decision Tree\"] = trial1_dt_metrics\n",
    "results.loc[\"Random Forest\"] = trial1_rf_metrics\n",
    "results.loc[\"Ensemble\"] = trial1_ensemble_metrics\n",
    "display(results)\n",
    "\n",
    "# Create confusion matrices for each model\n",
    "labels = list(dict.fromkeys(test_classes_trial1))\n",
    "predictions_map = {\n",
    "    \"Trial 1: KNN\": trial1_knn_predictions,\n",
    "    \"Trial 1: Decision Tree\": trial1_dt_predictions,\n",
    "    \"Trial 1: Random Forest\": trial1_rf_predictions,\n",
    "    \"Trial 1: Ensemble\": trial1_ensemble_predictions\n",
    "}\n",
    "display_confusion_matrix(test_classes_trial1, predictions_map=predictions_map, labels=labels)\n"
   ]
  },
  {
   "cell_type": "markdown",
   "metadata": {},
   "source": [
    "### Trial 2: Malware Category"
   ]
  },
  {
   "cell_type": "code",
   "execution_count": 40,
   "metadata": {},
   "outputs": [
    {
     "data": {
      "text/html": [
       "<div>\n",
       "<style scoped>\n",
       "    .dataframe tbody tr th:only-of-type {\n",
       "        vertical-align: middle;\n",
       "    }\n",
       "\n",
       "    .dataframe tbody tr th {\n",
       "        vertical-align: top;\n",
       "    }\n",
       "\n",
       "    .dataframe thead th {\n",
       "        text-align: right;\n",
       "    }\n",
       "</style>\n",
       "<table border=\"1\" class=\"dataframe\">\n",
       "  <thead>\n",
       "    <tr style=\"text-align: right;\">\n",
       "      <th></th>\n",
       "      <th>Precision</th>\n",
       "      <th>Recall</th>\n",
       "      <th>F1 Score</th>\n",
       "      <th>Accuracy</th>\n",
       "    </tr>\n",
       "  </thead>\n",
       "  <tbody>\n",
       "    <tr>\n",
       "      <th>KNN</th>\n",
       "      <td>0.712517</td>\n",
       "      <td>0.712559</td>\n",
       "      <td>0.712497</td>\n",
       "      <td>0.808929</td>\n",
       "    </tr>\n",
       "    <tr>\n",
       "      <th>Decision Tree</th>\n",
       "      <td>0.748278</td>\n",
       "      <td>0.748155</td>\n",
       "      <td>0.748203</td>\n",
       "      <td>0.832617</td>\n",
       "    </tr>\n",
       "    <tr>\n",
       "      <th>Random Forest</th>\n",
       "      <td>0.794591</td>\n",
       "      <td>0.794481</td>\n",
       "      <td>0.794518</td>\n",
       "      <td>0.863506</td>\n",
       "    </tr>\n",
       "    <tr>\n",
       "      <th>Ensemble</th>\n",
       "      <td>0.795229</td>\n",
       "      <td>0.795227</td>\n",
       "      <td>0.795205</td>\n",
       "      <td>0.863984</td>\n",
       "    </tr>\n",
       "    <tr>\n",
       "      <th>SVM</th>\n",
       "      <td>0.650603</td>\n",
       "      <td>0.642781</td>\n",
       "      <td>0.638110</td>\n",
       "      <td>0.760939</td>\n",
       "    </tr>\n",
       "  </tbody>\n",
       "</table>\n",
       "</div>"
      ],
      "text/plain": [
       "               Precision    Recall  F1 Score  Accuracy\n",
       "KNN             0.712517  0.712559  0.712497  0.808929\n",
       "Decision Tree   0.748278  0.748155  0.748203  0.832617\n",
       "Random Forest   0.794591  0.794481  0.794518  0.863506\n",
       "Ensemble        0.795229  0.795227  0.795205  0.863984\n",
       "SVM             0.650603  0.642781  0.638110  0.760939"
      ]
     },
     "metadata": {},
     "output_type": "display_data"
    },
    {
     "data": {
      "image/png": "[encoded data removed]",
      "text/plain": [
       "<Figure size 2000x500 with 5 Axes>"
      ]
     },
     "metadata": {},
     "output_type": "display_data"
    }
   ],
   "source": [
    "# KNN Experiment\n",
    "trial2_knn_predictions = knn_experiment(5, train_observations, train_classes_trial2, test_observations)\n",
    "\n",
    "# Decision Tree Experiment\n",
    "trial2_dt_predictions = dt_experiment(train_observations, train_classes_trial2, test_observations)\n",
    "\n",
    "# Random Forest Experiment\n",
    "trial2_rf_predictions = rf_experiment(train_observations, train_classes_trial2, test_observations)\n",
    "\n",
    "# Ensemble Experiment\n",
    "trial2_ensemble_predictions = ensemble_experiment(train_observations, train_classes_trial2, test_observations)\n",
    "\n",
    "# Calculate Metrics\n",
    "trial2_knn_metrics = calculate_metrics(test_classes_trial2, trial2_knn_predictions)\n",
    "trial2_dt_metrics = calculate_metrics(test_classes_trial2, trial2_dt_predictions)\n",
    "trial2_rf_metrics = calculate_metrics(test_classes_trial2, trial2_rf_predictions)\n",
    "trial2_ensemble_metrics = calculate_metrics(test_classes_trial2, trial2_ensemble_predictions)\n",
    "\n",
    "# Create a DataFrame with the results\n",
    "results = pd.DataFrame(columns=[\"Precision\", \"Recall\", \"F1 Score\", \"Accuracy\"])\n",
    "results.loc[\"KNN\"] = trial2_knn_metrics\n",
    "results.loc[\"Decision Tree\"] = trial2_dt_metrics\n",
    "results.loc[\"Random Forest\"] = trial2_rf_metrics\n",
    "results.loc[\"Ensemble\"] = trial2_ensemble_metrics\n",
    "display(results)\n",
    "\n",
    "# Create confusion matrices for each model\n",
    "labels = list(dict.fromkeys(train_classes_trial2))\n",
    "predictions_map = {\n",
    "    \"Trial 2: KNN\": trial2_knn_predictions,\n",
    "    \"Trial 2: Decision Tree\": trial2_dt_predictions,\n",
    "    \"Trial 2: Random Forest\": trial2_rf_predictions,\n",
    "    \"Trial 2: Ensemble\": trial2_ensemble_predictions\n",
    "}\n",
    "display_confusion_matrix(test_classes_trial2, predictions_map=predictions_map, labels=labels)"
   ]
  },
  {
   "cell_type": "markdown",
   "metadata": {},
   "source": [
    "### Trial 3: Malware Family"
   ]
  },
  {
   "cell_type": "code",
   "execution_count": 35,
   "metadata": {},
   "outputs": [
    {
     "data": {
      "text/html": [
       "<div>\n",
       "<style scoped>\n",
       "    .dataframe tbody tr th:only-of-type {\n",
       "        vertical-align: middle;\n",
       "    }\n",
       "\n",
       "    .dataframe tbody tr th {\n",
       "        vertical-align: top;\n",
       "    }\n",
       "\n",
       "    .dataframe thead th {\n",
       "        text-align: right;\n",
       "    }\n",
       "</style>\n",
       "<table border=\"1\" class=\"dataframe\">\n",
       "  <thead>\n",
       "    <tr style=\"text-align: right;\">\n",
       "      <th></th>\n",
       "      <th>Precision</th>\n",
       "      <th>Recall</th>\n",
       "      <th>F1 Score</th>\n",
       "      <th>Accuracy</th>\n",
       "    </tr>\n",
       "  </thead>\n",
       "  <tbody>\n",
       "    <tr>\n",
       "      <th>KNN</th>\n",
       "      <td>0.401243</td>\n",
       "      <td>0.405338</td>\n",
       "      <td>0.401559</td>\n",
       "      <td>0.682299</td>\n",
       "    </tr>\n",
       "    <tr>\n",
       "      <th>Decision Tree</th>\n",
       "      <td>0.468307</td>\n",
       "      <td>0.466737</td>\n",
       "      <td>0.467259</td>\n",
       "      <td>0.714451</td>\n",
       "    </tr>\n",
       "    <tr>\n",
       "      <th>Random Forest</th>\n",
       "      <td>0.517537</td>\n",
       "      <td>0.515921</td>\n",
       "      <td>0.514976</td>\n",
       "      <td>0.740904</td>\n",
       "    </tr>\n",
       "    <tr>\n",
       "      <th>Ensemble</th>\n",
       "      <td>0.520349</td>\n",
       "      <td>0.516357</td>\n",
       "      <td>0.515881</td>\n",
       "      <td>0.741109</td>\n",
       "    </tr>\n",
       "  </tbody>\n",
       "</table>\n",
       "</div>"
      ],
      "text/plain": [
       "               Precision    Recall  F1 Score  Accuracy\n",
       "KNN             0.401243  0.405338  0.401559  0.682299\n",
       "Decision Tree   0.468307  0.466737  0.467259  0.714451\n",
       "Random Forest   0.517537  0.515921  0.514976  0.740904\n",
       "Ensemble        0.520349  0.516357  0.515881  0.741109"
      ]
     },
     "metadata": {},
     "output_type": "display_data"
    }
   ],
   "source": [
    "# KNN Experiment\n",
    "trial3_knn_predictions = knn_experiment(5, train_observations, train_classes_trial3, test_observations)\n",
    "\n",
    "# Decision Tree Experiment\n",
    "trial3_dt_predictions = dt_experiment(train_observations, train_classes_trial3, test_observations)\n",
    "\n",
    "# Random Forest Experiment\n",
    "trial3_rf_predictions = rf_experiment(train_observations, train_classes_trial3, test_observations)\n",
    "\n",
    "# Ensemble Experiment\n",
    "trial3_ensemble_predictions = ensemble_experiment(train_observations, train_classes_trial3, test_observations)\n",
    "\n",
    "# Calculate Metrics\n",
    "trial3_knn_metrics = calculate_metrics(test_classes_trial3, trial3_knn_predictions)\n",
    "trial3_dt_metrics = calculate_metrics(test_classes_trial3, trial3_dt_predictions)\n",
    "trial3_rf_metrics = calculate_metrics(test_classes_trial3, trial3_rf_predictions)\n",
    "trial3_ensemble_metrics = calculate_metrics(test_classes_trial3, trial3_ensemble_predictions)\n",
    "\n",
    "# Create a DataFrame with the results\n",
    "results = pd.DataFrame(columns=[\"Precision\", \"Recall\", \"F1 Score\", \"Accuracy\"])\n",
    "results.loc[\"KNN\"] = trial3_knn_metrics\n",
    "results.loc[\"Decision Tree\"] = trial3_dt_metrics\n",
    "results.loc[\"Random Forest\"] = trial3_rf_metrics\n",
    "results.loc[\"Ensemble\"] = trial3_ensemble_metrics\n",
    "display(results)\n",
    "\n",
    "# Since the accuracy is so low, we won't create a confusion matrix for this experiment."
   ]
  }
 ],
 "metadata": {
  "kernelspec": {
   "display_name": "Python 3",
   "language": "python",
   "name": "python3"
  },
  "language_info": {
   "codemirror_mode": {
    "name": "ipython",
    "version": 3
   },
   "file_extension": ".py",
   "mimetype": "text/x-python",
   "name": "python",
   "nbconvert_exporter": "python",
   "pygments_lexer": "ipython3",
   "version": "3.10.9"
  },
  "orig_nbformat": 4
 },
 "nbformat": 4,
 "nbformat_minor": 2
}
